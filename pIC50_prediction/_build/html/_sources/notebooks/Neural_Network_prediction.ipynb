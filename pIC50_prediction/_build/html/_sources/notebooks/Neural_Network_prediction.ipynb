{
 "cells": [
  {
   "cell_type": "markdown",
   "source": [
    "# Neural Network Prediction"
   ],
   "metadata": {
    "collapsed": false
   },
   "id": "bcdd8411fc71d1d5"
  },
  {
   "cell_type": "code",
   "execution_count": 576,
   "id": "initial_id",
   "metadata": {
    "collapsed": true,
    "ExecuteTime": {
     "end_time": "2024-05-18T15:57:26.557650Z",
     "start_time": "2024-05-18T15:57:26.553274Z"
    }
   },
   "outputs": [],
   "source": [
    "import numpy as np\n",
    "import pandas as pd\n",
    "from sklearn.model_selection import train_test_split"
   ]
  },
  {
   "cell_type": "code",
   "outputs": [
    {
     "name": "stdout",
     "output_type": "stream",
     "text": [
      "(2985, 885)\n",
      "(2985, 1)\n"
     ]
    }
   ],
   "source": [
    "# read prepared data from previous notebooks\n",
    "X = pd.read_csv('X.csv', index_col=0)\n",
    "Y = pd.read_csv('Y.csv', index_col=0)\n",
    "print(X.shape)\n",
    "print(Y.shape)"
   ],
   "metadata": {
    "collapsed": false,
    "ExecuteTime": {
     "end_time": "2024-05-18T15:57:26.675012Z",
     "start_time": "2024-05-18T15:57:26.588151Z"
    }
   },
   "id": "6484e5d7654bb46b",
   "execution_count": 577
  },
  {
   "cell_type": "markdown",
   "source": [
    "Visualize X and Y dataset"
   ],
   "metadata": {
    "collapsed": false
   },
   "id": "54de4cb89f83a0d"
  },
  {
   "cell_type": "code",
   "outputs": [
    {
     "data": {
      "text/plain": "   mol_weight   log_p  num_h_donors  num_h_acceptors  PubchemFP0  PubchemFP1  \\\n0     311.422  3.3188           1.0              2.0           1           1   \n1     299.461  3.2412           1.0              3.0           1           1   \n2     311.422  3.3188           1.0              2.0           1           1   \n3     327.877  3.8331           1.0              2.0           1           1   \n4     372.328  3.9422           1.0              2.0           1           1   \n\n   PubchemFP2  PubchemFP3  PubchemFP4  PubchemFP5  ...  PubchemFP871  \\\n0           1           0           0           0  ...             0   \n1           1           0           0           0  ...             0   \n2           1           0           0           0  ...             0   \n3           1           0           0           0  ...             0   \n4           1           0           0           0  ...             0   \n\n   PubchemFP872  PubchemFP873  PubchemFP874  PubchemFP875  PubchemFP876  \\\n0             0             0             0             0             0   \n1             0             0             0             0             0   \n2             0             0             0             0             0   \n3             0             0             0             0             0   \n4             0             0             0             0             0   \n\n   PubchemFP877  PubchemFP878  PubchemFP879  PubchemFP880  \n0             0             0             0             0  \n1             0             0             0             0  \n2             0             0             0             0  \n3             0             0             0             0  \n4             0             0             0             0  \n\n[5 rows x 885 columns]",
      "text/html": "<div>\n<style scoped>\n    .dataframe tbody tr th:only-of-type {\n        vertical-align: middle;\n    }\n\n    .dataframe tbody tr th {\n        vertical-align: top;\n    }\n\n    .dataframe thead th {\n        text-align: right;\n    }\n</style>\n<table border=\"1\" class=\"dataframe\">\n  <thead>\n    <tr style=\"text-align: right;\">\n      <th></th>\n      <th>mol_weight</th>\n      <th>log_p</th>\n      <th>num_h_donors</th>\n      <th>num_h_acceptors</th>\n      <th>PubchemFP0</th>\n      <th>PubchemFP1</th>\n      <th>PubchemFP2</th>\n      <th>PubchemFP3</th>\n      <th>PubchemFP4</th>\n      <th>PubchemFP5</th>\n      <th>...</th>\n      <th>PubchemFP871</th>\n      <th>PubchemFP872</th>\n      <th>PubchemFP873</th>\n      <th>PubchemFP874</th>\n      <th>PubchemFP875</th>\n      <th>PubchemFP876</th>\n      <th>PubchemFP877</th>\n      <th>PubchemFP878</th>\n      <th>PubchemFP879</th>\n      <th>PubchemFP880</th>\n    </tr>\n  </thead>\n  <tbody>\n    <tr>\n      <th>0</th>\n      <td>311.422</td>\n      <td>3.3188</td>\n      <td>1.0</td>\n      <td>2.0</td>\n      <td>1</td>\n      <td>1</td>\n      <td>1</td>\n      <td>0</td>\n      <td>0</td>\n      <td>0</td>\n      <td>...</td>\n      <td>0</td>\n      <td>0</td>\n      <td>0</td>\n      <td>0</td>\n      <td>0</td>\n      <td>0</td>\n      <td>0</td>\n      <td>0</td>\n      <td>0</td>\n      <td>0</td>\n    </tr>\n    <tr>\n      <th>1</th>\n      <td>299.461</td>\n      <td>3.2412</td>\n      <td>1.0</td>\n      <td>3.0</td>\n      <td>1</td>\n      <td>1</td>\n      <td>1</td>\n      <td>0</td>\n      <td>0</td>\n      <td>0</td>\n      <td>...</td>\n      <td>0</td>\n      <td>0</td>\n      <td>0</td>\n      <td>0</td>\n      <td>0</td>\n      <td>0</td>\n      <td>0</td>\n      <td>0</td>\n      <td>0</td>\n      <td>0</td>\n    </tr>\n    <tr>\n      <th>2</th>\n      <td>311.422</td>\n      <td>3.3188</td>\n      <td>1.0</td>\n      <td>2.0</td>\n      <td>1</td>\n      <td>1</td>\n      <td>1</td>\n      <td>0</td>\n      <td>0</td>\n      <td>0</td>\n      <td>...</td>\n      <td>0</td>\n      <td>0</td>\n      <td>0</td>\n      <td>0</td>\n      <td>0</td>\n      <td>0</td>\n      <td>0</td>\n      <td>0</td>\n      <td>0</td>\n      <td>0</td>\n    </tr>\n    <tr>\n      <th>3</th>\n      <td>327.877</td>\n      <td>3.8331</td>\n      <td>1.0</td>\n      <td>2.0</td>\n      <td>1</td>\n      <td>1</td>\n      <td>1</td>\n      <td>0</td>\n      <td>0</td>\n      <td>0</td>\n      <td>...</td>\n      <td>0</td>\n      <td>0</td>\n      <td>0</td>\n      <td>0</td>\n      <td>0</td>\n      <td>0</td>\n      <td>0</td>\n      <td>0</td>\n      <td>0</td>\n      <td>0</td>\n    </tr>\n    <tr>\n      <th>4</th>\n      <td>372.328</td>\n      <td>3.9422</td>\n      <td>1.0</td>\n      <td>2.0</td>\n      <td>1</td>\n      <td>1</td>\n      <td>1</td>\n      <td>0</td>\n      <td>0</td>\n      <td>0</td>\n      <td>...</td>\n      <td>0</td>\n      <td>0</td>\n      <td>0</td>\n      <td>0</td>\n      <td>0</td>\n      <td>0</td>\n      <td>0</td>\n      <td>0</td>\n      <td>0</td>\n      <td>0</td>\n    </tr>\n  </tbody>\n</table>\n<p>5 rows × 885 columns</p>\n</div>"
     },
     "execution_count": 578,
     "metadata": {},
     "output_type": "execute_result"
    }
   ],
   "source": [
    "X.head()"
   ],
   "metadata": {
    "collapsed": false,
    "ExecuteTime": {
     "end_time": "2024-05-18T15:57:26.684016Z",
     "start_time": "2024-05-18T15:57:26.676131Z"
    }
   },
   "id": "a4afcf320a1736ce",
   "execution_count": 578
  },
  {
   "cell_type": "code",
   "outputs": [
    {
     "data": {
      "text/plain": "      pIC50\n0  5.301030\n1  5.568636\n2  5.744727\n3  4.958607\n4  5.000000",
      "text/html": "<div>\n<style scoped>\n    .dataframe tbody tr th:only-of-type {\n        vertical-align: middle;\n    }\n\n    .dataframe tbody tr th {\n        vertical-align: top;\n    }\n\n    .dataframe thead th {\n        text-align: right;\n    }\n</style>\n<table border=\"1\" class=\"dataframe\">\n  <thead>\n    <tr style=\"text-align: right;\">\n      <th></th>\n      <th>pIC50</th>\n    </tr>\n  </thead>\n  <tbody>\n    <tr>\n      <th>0</th>\n      <td>5.301030</td>\n    </tr>\n    <tr>\n      <th>1</th>\n      <td>5.568636</td>\n    </tr>\n    <tr>\n      <th>2</th>\n      <td>5.744727</td>\n    </tr>\n    <tr>\n      <th>3</th>\n      <td>4.958607</td>\n    </tr>\n    <tr>\n      <th>4</th>\n      <td>5.000000</td>\n    </tr>\n  </tbody>\n</table>\n</div>"
     },
     "execution_count": 579,
     "metadata": {},
     "output_type": "execute_result"
    }
   ],
   "source": [
    "Y.head()"
   ],
   "metadata": {
    "collapsed": false,
    "ExecuteTime": {
     "end_time": "2024-05-18T15:57:26.687775Z",
     "start_time": "2024-05-18T15:57:26.684724Z"
    }
   },
   "id": "f381d50cd0bde5cd",
   "execution_count": 579
  },
  {
   "cell_type": "markdown",
   "source": [
    "## Building Neural Network\n",
    "\n",
    "Train Test Split\n",
    "Splitting the dataset into training and test sets."
   ],
   "metadata": {
    "collapsed": false
   },
   "id": "8ce6c125d4864204"
  },
  {
   "cell_type": "code",
   "outputs": [
    {
     "name": "stdout",
     "output_type": "stream",
     "text": [
      "(885, 2388)\n",
      "(1, 2388)\n"
     ]
    }
   ],
   "source": [
    "# Get 80% of the dataset as the training set. Put the remaining 20% as the test set: x_test and y_test.\n",
    "x_train, x_test, y_train, y_test = train_test_split(X, Y, test_size = 0.2, random_state = 1)\n",
    "\n",
    "# Transpose the dataset\n",
    "x_train = np.array(x_train.T)\n",
    "x_test = np.array(x_test.T)\n",
    "y_train =np.array(y_train.T)\n",
    "y_test = np.array(y_test.T)\n",
    "\n",
    "# Every column is one sample of chemical compound with a dimension of 885\n",
    "# There are in total 2388 training samples\n",
    "print(x_train.shape)\n",
    "print(y_train.shape)"
   ],
   "metadata": {
    "collapsed": false,
    "ExecuteTime": {
     "end_time": "2024-05-18T15:57:26.709758Z",
     "start_time": "2024-05-18T15:57:26.688987Z"
    }
   },
   "id": "a3ae992ccf4d0914",
   "execution_count": 580
  },
  {
   "cell_type": "markdown",
   "source": [
    "## Defines the input size, hidden size and output size"
   ],
   "metadata": {
    "collapsed": false
   },
   "id": "45e1b80e680862a5"
  },
  {
   "cell_type": "code",
   "outputs": [],
   "source": [
    "input_size = 885\n",
    "hidden_size = 128\n",
    "output_size = 1"
   ],
   "metadata": {
    "collapsed": false,
    "ExecuteTime": {
     "end_time": "2024-05-18T15:57:26.713890Z",
     "start_time": "2024-05-18T15:57:26.711009Z"
    }
   },
   "id": "59377c5cec5c0511",
   "execution_count": 581
  },
  {
   "cell_type": "markdown",
   "source": [
    "Initialize parameters"
   ],
   "metadata": {
    "collapsed": false
   },
   "id": "d8f5e963c442c9d6"
  },
  {
   "cell_type": "code",
   "outputs": [],
   "source": [
    "def init_param(input_size, hidden_size, output_size):\n",
    "    W1 = np.random.randn(hidden_size, input_size) * 0.01\n",
    "    b1 = np.random.randn(hidden_size, 1) * 0.01\n",
    "    W2 = np.random.randn(output_size, hidden_size) * 0.01\n",
    "    b2 = np.random.randn(output_size, 1) * 0.01\n",
    "    return W1, b1, W2, b2"
   ],
   "metadata": {
    "collapsed": false,
    "ExecuteTime": {
     "end_time": "2024-05-18T15:57:26.716397Z",
     "start_time": "2024-05-18T15:57:26.714547Z"
    }
   },
   "id": "b761b6171a917a11",
   "execution_count": 582
  },
  {
   "cell_type": "markdown",
   "source": [
    "Define Relu"
   ],
   "metadata": {
    "collapsed": false
   },
   "id": "db7e017e504c0093"
  },
  {
   "cell_type": "code",
   "outputs": [],
   "source": [
    "def ReLU(Z):\n",
    "    return np.maximum(Z, 0)"
   ],
   "metadata": {
    "collapsed": false,
    "ExecuteTime": {
     "end_time": "2024-05-18T15:57:26.718394Z",
     "start_time": "2024-05-18T15:57:26.716890Z"
    }
   },
   "id": "76efb68fd43898ac",
   "execution_count": 583
  },
  {
   "cell_type": "markdown",
   "source": [
    "## Forward Propagation"
   ],
   "metadata": {
    "collapsed": false
   },
   "id": "29e3fceddf483883"
  },
  {
   "cell_type": "code",
   "outputs": [],
   "source": [
    "def forward_prop(X, W1, B1, W2, B2):\n",
    "    Z1 = np.dot(W1, X) + B1\n",
    "    A1 = ReLU(Z1)\n",
    "    Z2 = np.dot(W2, A1) + B2\n",
    "    A2 = Z2 # linear activation\n",
    "    return Z1, A1, Z2, A2"
   ],
   "metadata": {
    "collapsed": false,
    "ExecuteTime": {
     "end_time": "2024-05-18T15:57:26.720859Z",
     "start_time": "2024-05-18T15:57:26.718948Z"
    }
   },
   "id": "4ea98830538c5aee",
   "execution_count": 584
  },
  {
   "cell_type": "markdown",
   "source": [
    "## Model Dimensions\n",
    "$$\n",
    "W1:128*885 \\\\\n",
    "X:885*2388 \\\\\n",
    "B1:128*1 \\\\\n",
    "Z1:128*2388 \\\\\n",
    "A1:128*2388 \\\\\n",
    "W2:1*128 \\\\ \n",
    "B2: 1*1 \\\\\n",
    "Z2: 1*2388 \\\\ \n",
    "A2: 1*2388 \\\\ \n",
    "Y:1*2388\n",
    "$$"
   ],
   "metadata": {
    "collapsed": false
   },
   "id": "d1ab17735a35dea3"
  },
  {
   "cell_type": "markdown",
   "source": [
    "## Forward Propagation:\n",
    "$$\n",
    "Z1 = W1*X + B1\n",
    "\\\\\n",
    "A1 = ReLU(Z1)\n",
    "\\\\\n",
    "\\\\\n",
    "Z2 = W2*A1 + B2\n",
    "\\\\\n",
    "A2 = Z2\n",
    "$$"
   ],
   "metadata": {
    "collapsed": false
   },
   "id": "b853371c59c48017"
  },
  {
   "cell_type": "markdown",
   "source": [
    "## Loss Function (MSE) and Back Propagation\n",
    "$$\n",
    "Loss(A2, Y) = \\frac{1}{2*2388} \\sum_{i=1}^2388 (A_2 - Y) ^ 2\n",
    "$$\n",
    "\n",
    "Gradients:\n",
    "\n",
    "$$\n",
    "dZ_2 = A_2 - Y \\\\\n",
    "\n",
    "$$"
   ],
   "metadata": {
    "collapsed": false
   },
   "id": "a6ebeeb83a150258"
  },
  {
   "cell_type": "markdown",
   "source": [
    "## Define derivative of ReLU and back prop"
   ],
   "metadata": {
    "collapsed": false
   },
   "id": "e5d6608fd47087dc"
  },
  {
   "cell_type": "code",
   "outputs": [],
   "source": [
    "def deriv_ReLU(Z):\n",
    "    return Z > 0\n",
    "\n",
    "def back_prop(X, Y, Z1, A1, Z2, A2, W2):\n",
    "    m = X.shape[1]\n",
    "    \n",
    "    # Output layer gradients\n",
    "    dZ2 = A2 - Y\n",
    "    dW2 = (1 / m) * np.dot(dZ2, A1.T)\n",
    "    dB2 = (1 / m) * np.sum(dZ2)\n",
    "    \n",
    "    # Hidden layer gradients\n",
    "    dA1 = np.dot(W2.T, dZ2)\n",
    "    dZ1 = dA1 * deriv_ReLU(Z1)\n",
    "    dW1 = (1 / m) * np.dot(dZ1, X.T)\n",
    "    dB1 = (1 / m) * np.sum(dZ1)\n",
    "    \n",
    "    return dW1, dB1, dW2, dB2"
   ],
   "metadata": {
    "collapsed": false,
    "ExecuteTime": {
     "end_time": "2024-05-18T15:57:26.723460Z",
     "start_time": "2024-05-18T15:57:26.721453Z"
    }
   },
   "id": "f5ee27788e4fc015",
   "execution_count": 585
  },
  {
   "cell_type": "markdown",
   "source": [
    "## Define loss function"
   ],
   "metadata": {
    "collapsed": false
   },
   "id": "ced285d38be61930"
  },
  {
   "cell_type": "code",
   "outputs": [],
   "source": [
    "def compute_loss(Y, A2):\n",
    "    m = Y.shape[1]\n",
    "    loss = (1 / (2 * m)) * np.sum((A2 - Y) ** 2)\n",
    "    return loss"
   ],
   "metadata": {
    "collapsed": false,
    "ExecuteTime": {
     "end_time": "2024-05-18T15:57:26.726272Z",
     "start_time": "2024-05-18T15:57:26.724810Z"
    }
   },
   "id": "d34f1485989a33f7",
   "execution_count": 586
  },
  {
   "cell_type": "markdown",
   "source": [
    "## Define Gradient descent to update parameters"
   ],
   "metadata": {
    "collapsed": false
   },
   "id": "4fa019a945fd1b43"
  },
  {
   "cell_type": "code",
   "outputs": [],
   "source": [
    "def update_parameters(W1, B1, W2, B2, dW1, dB1, dW2, dB2, learning_rate):\n",
    "    W1 -= learning_rate * dW1\n",
    "    B1 -= learning_rate * dB1\n",
    "    W2 -= learning_rate * dW2\n",
    "    B2 -= learning_rate * dB2\n",
    "    return W1, B1, W2, B2"
   ],
   "metadata": {
    "collapsed": false,
    "ExecuteTime": {
     "end_time": "2024-05-18T15:57:26.728528Z",
     "start_time": "2024-05-18T15:57:26.726713Z"
    }
   },
   "id": "17ce919234f1fab0",
   "execution_count": 587
  },
  {
   "cell_type": "markdown",
   "source": [
    "## Define Training loop"
   ],
   "metadata": {
    "collapsed": false
   },
   "id": "740fdc9c996dd5ad"
  },
  {
   "cell_type": "code",
   "outputs": [],
   "source": [
    "def train(X, Y, learning_rate=0.0001, epochs=1000):\n",
    "    W1, B1, W2, B2 = init_param(input_size = 885, hidden_size = 128, output_size = 1)\n",
    "    \n",
    "    for epoch in range(epochs):\n",
    "        Z1, A1, Z2, A2 = forward_prop(X, W1, B1, W2, B2)\n",
    "        loss = compute_loss(Y, A2)\n",
    "        \n",
    "        \n",
    "        dW1, dB1, dW2, dB2 = back_prop(X, Y, Z1, A1, Z2, A2, W2)\n",
    "        W1, B1, W2, B2 = update_parameters(W1, B1, W2, B2, dW1, dB1, dW2, dB2, learning_rate)\n",
    "        \n",
    "        if epoch % 100 == 0:\n",
    "            print(f'Epoch {epoch}, Loss: {loss}')\n",
    "    \n",
    "    return W1, B1, W2, B2"
   ],
   "metadata": {
    "collapsed": false,
    "ExecuteTime": {
     "end_time": "2024-05-18T15:57:26.731585Z",
     "start_time": "2024-05-18T15:57:26.729346Z"
    }
   },
   "id": "4611f0485c021742",
   "execution_count": 588
  },
  {
   "cell_type": "markdown",
   "source": [
    "## Starts training"
   ],
   "metadata": {
    "collapsed": false
   },
   "id": "31b6589a0df60eff"
  },
  {
   "cell_type": "code",
   "outputs": [
    {
     "name": "stdout",
     "output_type": "stream",
     "text": [
      "Epoch 0, Loss: 15.561058156067332\n",
      "Epoch 100, Loss: 1.3152217410103004\n",
      "Epoch 200, Loss: 1.311803301054817\n",
      "Epoch 300, Loss: 1.3084093432322053\n",
      "Epoch 400, Loss: 1.3050253834552574\n",
      "Epoch 500, Loss: 1.3016427283260288\n",
      "Epoch 600, Loss: 1.2982550295887287\n"
     ]
    },
    {
     "ename": "KeyboardInterrupt",
     "evalue": "",
     "output_type": "error",
     "traceback": [
      "\u001B[0;31m---------------------------------------------------------------------------\u001B[0m",
      "\u001B[0;31mKeyboardInterrupt\u001B[0m                         Traceback (most recent call last)",
      "Cell \u001B[0;32mIn[589], line 1\u001B[0m\n\u001B[0;32m----> 1\u001B[0m trained_W1, trained_B1, trained_W2, trained_B2 \u001B[38;5;241m=\u001B[39m \u001B[43mtrain\u001B[49m\u001B[43m(\u001B[49m\u001B[43mx_train\u001B[49m\u001B[43m,\u001B[49m\u001B[43m \u001B[49m\u001B[43my_train\u001B[49m\u001B[43m)\u001B[49m\n",
      "Cell \u001B[0;32mIn[588], line 5\u001B[0m, in \u001B[0;36mtrain\u001B[0;34m(X, Y, learning_rate, epochs)\u001B[0m\n\u001B[1;32m      2\u001B[0m W1, B1, W2, B2 \u001B[38;5;241m=\u001B[39m init_param(input_size \u001B[38;5;241m=\u001B[39m \u001B[38;5;241m885\u001B[39m, hidden_size \u001B[38;5;241m=\u001B[39m \u001B[38;5;241m128\u001B[39m, output_size \u001B[38;5;241m=\u001B[39m \u001B[38;5;241m1\u001B[39m)\n\u001B[1;32m      4\u001B[0m \u001B[38;5;28;01mfor\u001B[39;00m epoch \u001B[38;5;129;01min\u001B[39;00m \u001B[38;5;28mrange\u001B[39m(epochs):\n\u001B[0;32m----> 5\u001B[0m     Z1, A1, Z2, A2 \u001B[38;5;241m=\u001B[39m \u001B[43mforward_prop\u001B[49m\u001B[43m(\u001B[49m\u001B[43mX\u001B[49m\u001B[43m,\u001B[49m\u001B[43m \u001B[49m\u001B[43mW1\u001B[49m\u001B[43m,\u001B[49m\u001B[43m \u001B[49m\u001B[43mB1\u001B[49m\u001B[43m,\u001B[49m\u001B[43m \u001B[49m\u001B[43mW2\u001B[49m\u001B[43m,\u001B[49m\u001B[43m \u001B[49m\u001B[43mB2\u001B[49m\u001B[43m)\u001B[49m\n\u001B[1;32m      6\u001B[0m     loss \u001B[38;5;241m=\u001B[39m compute_loss(Y, A2)\n\u001B[1;32m      9\u001B[0m     dW1, dB1, dW2, dB2 \u001B[38;5;241m=\u001B[39m back_prop(X, Y, Z1, A1, Z2, A2, W2)\n",
      "Cell \u001B[0;32mIn[584], line 2\u001B[0m, in \u001B[0;36mforward_prop\u001B[0;34m(X, W1, B1, W2, B2)\u001B[0m\n\u001B[1;32m      1\u001B[0m \u001B[38;5;28;01mdef\u001B[39;00m \u001B[38;5;21mforward_prop\u001B[39m(X, W1, B1, W2, B2):\n\u001B[0;32m----> 2\u001B[0m     Z1 \u001B[38;5;241m=\u001B[39m \u001B[43mnp\u001B[49m\u001B[38;5;241;43m.\u001B[39;49m\u001B[43mdot\u001B[49m\u001B[43m(\u001B[49m\u001B[43mW1\u001B[49m\u001B[43m,\u001B[49m\u001B[43m \u001B[49m\u001B[43mX\u001B[49m\u001B[43m)\u001B[49m \u001B[38;5;241m+\u001B[39m B1\n\u001B[1;32m      3\u001B[0m     A1 \u001B[38;5;241m=\u001B[39m ReLU(Z1)\n\u001B[1;32m      4\u001B[0m     Z2 \u001B[38;5;241m=\u001B[39m np\u001B[38;5;241m.\u001B[39mdot(W2, A1) \u001B[38;5;241m+\u001B[39m B2\n",
      "\u001B[0;31mKeyboardInterrupt\u001B[0m: "
     ]
    }
   ],
   "source": [
    "trained_W1, trained_B1, trained_W2, trained_B2 = train(x_train, y_train)"
   ],
   "metadata": {
    "collapsed": false,
    "ExecuteTime": {
     "end_time": "2024-05-18T15:57:42.374814Z",
     "start_time": "2024-05-18T15:57:26.732205Z"
    }
   },
   "id": "90000743843cc74f",
   "execution_count": 589
  },
  {
   "cell_type": "markdown",
   "source": [
    "## With 1000 epoch of training, the loss on the training set is 0.62\n",
    "\n",
    "Test the model on the test set"
   ],
   "metadata": {
    "collapsed": false
   },
   "id": "56e7ace2e39d5ba3"
  },
  {
   "cell_type": "code",
   "outputs": [],
   "source": [
    "_, _, _, predicted_A2 = forward_prop(x_test, trained_W1, trained_B1, trained_W2, trained_B2)\n",
    "print(f\"Prediction : {predicted_A2[0][:50]}\")\n",
    "print(f\"Actual: {y_test[0][:50]}\")\n",
    "loss = compute_loss(y_test, predicted_A2)\n",
    "print(f\"loss : {loss}\")"
   ],
   "metadata": {
    "collapsed": false,
    "ExecuteTime": {
     "end_time": "2024-05-18T15:57:42.377747Z",
     "start_time": "2024-05-18T15:57:42.377273Z"
    }
   },
   "id": "2f634b35b3cc5ffe",
   "execution_count": null
  },
  {
   "cell_type": "markdown",
   "source": [
    "## Results\n",
    "\n",
    "With 597 samples in the test set, the total loss is 1.18"
   ],
   "metadata": {
    "collapsed": false
   },
   "id": "2a6a7797351a5b98"
  }
 ],
 "metadata": {
  "kernelspec": {
   "display_name": "Python 3",
   "language": "python",
   "name": "python3"
  },
  "language_info": {
   "codemirror_mode": {
    "name": "ipython",
    "version": 2
   },
   "file_extension": ".py",
   "mimetype": "text/x-python",
   "name": "python",
   "nbconvert_exporter": "python",
   "pygments_lexer": "ipython2",
   "version": "2.7.6"
  }
 },
 "nbformat": 4,
 "nbformat_minor": 5
}

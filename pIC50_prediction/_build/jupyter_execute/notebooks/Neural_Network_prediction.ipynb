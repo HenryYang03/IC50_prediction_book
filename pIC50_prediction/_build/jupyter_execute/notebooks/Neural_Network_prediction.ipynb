{
 "cells": [
  {
   "cell_type": "markdown",
   "id": "bcdd8411fc71d1d5",
   "metadata": {
    "collapsed": false
   },
   "source": [
    "# Neural Network Prediction"
   ]
  },
  {
   "cell_type": "code",
   "execution_count": 1,
   "id": "initial_id",
   "metadata": {
    "ExecuteTime": {
     "end_time": "2024-05-18T15:57:26.557650Z",
     "start_time": "2024-05-18T15:57:26.553274Z"
    },
    "collapsed": true
   },
   "outputs": [],
   "source": [
    "import numpy as np\n",
    "import pandas as pd\n",
    "from sklearn.model_selection import train_test_split"
   ]
  },
  {
   "cell_type": "code",
   "execution_count": 2,
   "id": "6484e5d7654bb46b",
   "metadata": {
    "ExecuteTime": {
     "end_time": "2024-05-18T15:57:26.675012Z",
     "start_time": "2024-05-18T15:57:26.588151Z"
    },
    "collapsed": false
   },
   "outputs": [
    {
     "name": "stdout",
     "output_type": "stream",
     "text": [
      "(2985, 885)\n",
      "(2985, 1)\n"
     ]
    }
   ],
   "source": [
    "# read prepared data from previous notebooks\n",
    "X = pd.read_csv('X.csv', index_col=0)\n",
    "Y = pd.read_csv('Y.csv', index_col=0)\n",
    "print(X.shape)\n",
    "print(Y.shape)"
   ]
  },
  {
   "cell_type": "markdown",
   "id": "54de4cb89f83a0d",
   "metadata": {
    "collapsed": false
   },
   "source": [
    "Visualize X and Y dataset"
   ]
  },
  {
   "cell_type": "code",
   "execution_count": 3,
   "id": "a4afcf320a1736ce",
   "metadata": {
    "ExecuteTime": {
     "end_time": "2024-05-18T15:57:26.684016Z",
     "start_time": "2024-05-18T15:57:26.676131Z"
    },
    "collapsed": false
   },
   "outputs": [
    {
     "data": {
      "text/html": [
       "<div>\n",
       "<style scoped>\n",
       "    .dataframe tbody tr th:only-of-type {\n",
       "        vertical-align: middle;\n",
       "    }\n",
       "\n",
       "    .dataframe tbody tr th {\n",
       "        vertical-align: top;\n",
       "    }\n",
       "\n",
       "    .dataframe thead th {\n",
       "        text-align: right;\n",
       "    }\n",
       "</style>\n",
       "<table border=\"1\" class=\"dataframe\">\n",
       "  <thead>\n",
       "    <tr style=\"text-align: right;\">\n",
       "      <th></th>\n",
       "      <th>mol_weight</th>\n",
       "      <th>log_p</th>\n",
       "      <th>num_h_donors</th>\n",
       "      <th>num_h_acceptors</th>\n",
       "      <th>PubchemFP0</th>\n",
       "      <th>PubchemFP1</th>\n",
       "      <th>PubchemFP2</th>\n",
       "      <th>PubchemFP3</th>\n",
       "      <th>PubchemFP4</th>\n",
       "      <th>PubchemFP5</th>\n",
       "      <th>...</th>\n",
       "      <th>PubchemFP871</th>\n",
       "      <th>PubchemFP872</th>\n",
       "      <th>PubchemFP873</th>\n",
       "      <th>PubchemFP874</th>\n",
       "      <th>PubchemFP875</th>\n",
       "      <th>PubchemFP876</th>\n",
       "      <th>PubchemFP877</th>\n",
       "      <th>PubchemFP878</th>\n",
       "      <th>PubchemFP879</th>\n",
       "      <th>PubchemFP880</th>\n",
       "    </tr>\n",
       "  </thead>\n",
       "  <tbody>\n",
       "    <tr>\n",
       "      <th>0</th>\n",
       "      <td>311.422</td>\n",
       "      <td>3.3188</td>\n",
       "      <td>1.0</td>\n",
       "      <td>2.0</td>\n",
       "      <td>1</td>\n",
       "      <td>1</td>\n",
       "      <td>1</td>\n",
       "      <td>0</td>\n",
       "      <td>0</td>\n",
       "      <td>0</td>\n",
       "      <td>...</td>\n",
       "      <td>0</td>\n",
       "      <td>0</td>\n",
       "      <td>0</td>\n",
       "      <td>0</td>\n",
       "      <td>0</td>\n",
       "      <td>0</td>\n",
       "      <td>0</td>\n",
       "      <td>0</td>\n",
       "      <td>0</td>\n",
       "      <td>0</td>\n",
       "    </tr>\n",
       "    <tr>\n",
       "      <th>1</th>\n",
       "      <td>299.461</td>\n",
       "      <td>3.2412</td>\n",
       "      <td>1.0</td>\n",
       "      <td>3.0</td>\n",
       "      <td>1</td>\n",
       "      <td>1</td>\n",
       "      <td>1</td>\n",
       "      <td>0</td>\n",
       "      <td>0</td>\n",
       "      <td>0</td>\n",
       "      <td>...</td>\n",
       "      <td>0</td>\n",
       "      <td>0</td>\n",
       "      <td>0</td>\n",
       "      <td>0</td>\n",
       "      <td>0</td>\n",
       "      <td>0</td>\n",
       "      <td>0</td>\n",
       "      <td>0</td>\n",
       "      <td>0</td>\n",
       "      <td>0</td>\n",
       "    </tr>\n",
       "    <tr>\n",
       "      <th>2</th>\n",
       "      <td>311.422</td>\n",
       "      <td>3.3188</td>\n",
       "      <td>1.0</td>\n",
       "      <td>2.0</td>\n",
       "      <td>1</td>\n",
       "      <td>1</td>\n",
       "      <td>1</td>\n",
       "      <td>0</td>\n",
       "      <td>0</td>\n",
       "      <td>0</td>\n",
       "      <td>...</td>\n",
       "      <td>0</td>\n",
       "      <td>0</td>\n",
       "      <td>0</td>\n",
       "      <td>0</td>\n",
       "      <td>0</td>\n",
       "      <td>0</td>\n",
       "      <td>0</td>\n",
       "      <td>0</td>\n",
       "      <td>0</td>\n",
       "      <td>0</td>\n",
       "    </tr>\n",
       "    <tr>\n",
       "      <th>3</th>\n",
       "      <td>327.877</td>\n",
       "      <td>3.8331</td>\n",
       "      <td>1.0</td>\n",
       "      <td>2.0</td>\n",
       "      <td>1</td>\n",
       "      <td>1</td>\n",
       "      <td>1</td>\n",
       "      <td>0</td>\n",
       "      <td>0</td>\n",
       "      <td>0</td>\n",
       "      <td>...</td>\n",
       "      <td>0</td>\n",
       "      <td>0</td>\n",
       "      <td>0</td>\n",
       "      <td>0</td>\n",
       "      <td>0</td>\n",
       "      <td>0</td>\n",
       "      <td>0</td>\n",
       "      <td>0</td>\n",
       "      <td>0</td>\n",
       "      <td>0</td>\n",
       "    </tr>\n",
       "    <tr>\n",
       "      <th>4</th>\n",
       "      <td>372.328</td>\n",
       "      <td>3.9422</td>\n",
       "      <td>1.0</td>\n",
       "      <td>2.0</td>\n",
       "      <td>1</td>\n",
       "      <td>1</td>\n",
       "      <td>1</td>\n",
       "      <td>0</td>\n",
       "      <td>0</td>\n",
       "      <td>0</td>\n",
       "      <td>...</td>\n",
       "      <td>0</td>\n",
       "      <td>0</td>\n",
       "      <td>0</td>\n",
       "      <td>0</td>\n",
       "      <td>0</td>\n",
       "      <td>0</td>\n",
       "      <td>0</td>\n",
       "      <td>0</td>\n",
       "      <td>0</td>\n",
       "      <td>0</td>\n",
       "    </tr>\n",
       "  </tbody>\n",
       "</table>\n",
       "<p>5 rows × 885 columns</p>\n",
       "</div>"
      ],
      "text/plain": [
       "   mol_weight   log_p  num_h_donors  num_h_acceptors  PubchemFP0  PubchemFP1  \\\n",
       "0     311.422  3.3188           1.0              2.0           1           1   \n",
       "1     299.461  3.2412           1.0              3.0           1           1   \n",
       "2     311.422  3.3188           1.0              2.0           1           1   \n",
       "3     327.877  3.8331           1.0              2.0           1           1   \n",
       "4     372.328  3.9422           1.0              2.0           1           1   \n",
       "\n",
       "   PubchemFP2  PubchemFP3  PubchemFP4  PubchemFP5  ...  PubchemFP871  \\\n",
       "0           1           0           0           0  ...             0   \n",
       "1           1           0           0           0  ...             0   \n",
       "2           1           0           0           0  ...             0   \n",
       "3           1           0           0           0  ...             0   \n",
       "4           1           0           0           0  ...             0   \n",
       "\n",
       "   PubchemFP872  PubchemFP873  PubchemFP874  PubchemFP875  PubchemFP876  \\\n",
       "0             0             0             0             0             0   \n",
       "1             0             0             0             0             0   \n",
       "2             0             0             0             0             0   \n",
       "3             0             0             0             0             0   \n",
       "4             0             0             0             0             0   \n",
       "\n",
       "   PubchemFP877  PubchemFP878  PubchemFP879  PubchemFP880  \n",
       "0             0             0             0             0  \n",
       "1             0             0             0             0  \n",
       "2             0             0             0             0  \n",
       "3             0             0             0             0  \n",
       "4             0             0             0             0  \n",
       "\n",
       "[5 rows x 885 columns]"
      ]
     },
     "execution_count": 3,
     "metadata": {},
     "output_type": "execute_result"
    }
   ],
   "source": [
    "X.head()"
   ]
  },
  {
   "cell_type": "code",
   "execution_count": 4,
   "id": "f381d50cd0bde5cd",
   "metadata": {
    "ExecuteTime": {
     "end_time": "2024-05-18T15:57:26.687775Z",
     "start_time": "2024-05-18T15:57:26.684724Z"
    },
    "collapsed": false
   },
   "outputs": [
    {
     "data": {
      "text/html": [
       "<div>\n",
       "<style scoped>\n",
       "    .dataframe tbody tr th:only-of-type {\n",
       "        vertical-align: middle;\n",
       "    }\n",
       "\n",
       "    .dataframe tbody tr th {\n",
       "        vertical-align: top;\n",
       "    }\n",
       "\n",
       "    .dataframe thead th {\n",
       "        text-align: right;\n",
       "    }\n",
       "</style>\n",
       "<table border=\"1\" class=\"dataframe\">\n",
       "  <thead>\n",
       "    <tr style=\"text-align: right;\">\n",
       "      <th></th>\n",
       "      <th>pIC50</th>\n",
       "    </tr>\n",
       "  </thead>\n",
       "  <tbody>\n",
       "    <tr>\n",
       "      <th>0</th>\n",
       "      <td>5.301030</td>\n",
       "    </tr>\n",
       "    <tr>\n",
       "      <th>1</th>\n",
       "      <td>5.568636</td>\n",
       "    </tr>\n",
       "    <tr>\n",
       "      <th>2</th>\n",
       "      <td>5.744727</td>\n",
       "    </tr>\n",
       "    <tr>\n",
       "      <th>3</th>\n",
       "      <td>4.958607</td>\n",
       "    </tr>\n",
       "    <tr>\n",
       "      <th>4</th>\n",
       "      <td>5.000000</td>\n",
       "    </tr>\n",
       "  </tbody>\n",
       "</table>\n",
       "</div>"
      ],
      "text/plain": [
       "      pIC50\n",
       "0  5.301030\n",
       "1  5.568636\n",
       "2  5.744727\n",
       "3  4.958607\n",
       "4  5.000000"
      ]
     },
     "execution_count": 4,
     "metadata": {},
     "output_type": "execute_result"
    }
   ],
   "source": [
    "Y.head()"
   ]
  },
  {
   "cell_type": "markdown",
   "id": "8ce6c125d4864204",
   "metadata": {
    "collapsed": false
   },
   "source": [
    "## Building Neural Network\n",
    "\n",
    "Train Test Split\n",
    "Splitting the dataset into training and test sets."
   ]
  },
  {
   "cell_type": "code",
   "execution_count": 5,
   "id": "a3ae992ccf4d0914",
   "metadata": {
    "ExecuteTime": {
     "end_time": "2024-05-18T15:57:26.709758Z",
     "start_time": "2024-05-18T15:57:26.688987Z"
    },
    "collapsed": false
   },
   "outputs": [
    {
     "name": "stdout",
     "output_type": "stream",
     "text": [
      "(885, 2388)\n",
      "(1, 2388)\n"
     ]
    }
   ],
   "source": [
    "# Get 80% of the dataset as the training set. Put the remaining 20% as the test set: x_test and y_test.\n",
    "x_train, x_test, y_train, y_test = train_test_split(X, Y, test_size = 0.2, random_state = 1)\n",
    "\n",
    "# Transpose the dataset\n",
    "x_train = np.array(x_train.T)\n",
    "x_test = np.array(x_test.T)\n",
    "y_train =np.array(y_train.T)\n",
    "y_test = np.array(y_test.T)\n",
    "\n",
    "# Every column is one sample of chemical compound with a dimension of 885\n",
    "# There are in total 2388 training samples\n",
    "print(x_train.shape)\n",
    "print(y_train.shape)"
   ]
  },
  {
   "cell_type": "markdown",
   "id": "45e1b80e680862a5",
   "metadata": {
    "collapsed": false
   },
   "source": [
    "## Defines the input size, hidden size and output size"
   ]
  },
  {
   "cell_type": "code",
   "execution_count": 6,
   "id": "59377c5cec5c0511",
   "metadata": {
    "ExecuteTime": {
     "end_time": "2024-05-18T15:57:26.713890Z",
     "start_time": "2024-05-18T15:57:26.711009Z"
    },
    "collapsed": false
   },
   "outputs": [],
   "source": [
    "input_size = 885\n",
    "hidden_size = 128\n",
    "output_size = 1"
   ]
  },
  {
   "cell_type": "markdown",
   "id": "d8f5e963c442c9d6",
   "metadata": {
    "collapsed": false
   },
   "source": [
    "Initialize parameters"
   ]
  },
  {
   "cell_type": "code",
   "execution_count": 7,
   "id": "b761b6171a917a11",
   "metadata": {
    "ExecuteTime": {
     "end_time": "2024-05-18T15:57:26.716397Z",
     "start_time": "2024-05-18T15:57:26.714547Z"
    },
    "collapsed": false
   },
   "outputs": [],
   "source": [
    "def init_param(input_size, hidden_size, output_size):\n",
    "    W1 = np.random.randn(hidden_size, input_size) * 0.01\n",
    "    b1 = np.random.randn(hidden_size, 1) * 0.01\n",
    "    W2 = np.random.randn(output_size, hidden_size) * 0.01\n",
    "    b2 = np.random.randn(output_size, 1) * 0.01\n",
    "    return W1, b1, W2, b2"
   ]
  },
  {
   "cell_type": "markdown",
   "id": "db7e017e504c0093",
   "metadata": {
    "collapsed": false
   },
   "source": [
    "Define Relu"
   ]
  },
  {
   "cell_type": "code",
   "execution_count": 8,
   "id": "76efb68fd43898ac",
   "metadata": {
    "ExecuteTime": {
     "end_time": "2024-05-18T15:57:26.718394Z",
     "start_time": "2024-05-18T15:57:26.716890Z"
    },
    "collapsed": false
   },
   "outputs": [],
   "source": [
    "def ReLU(Z):\n",
    "    return np.maximum(Z, 0)"
   ]
  },
  {
   "cell_type": "markdown",
   "id": "29e3fceddf483883",
   "metadata": {
    "collapsed": false
   },
   "source": [
    "## Forward Propagation"
   ]
  },
  {
   "cell_type": "code",
   "execution_count": 9,
   "id": "4ea98830538c5aee",
   "metadata": {
    "ExecuteTime": {
     "end_time": "2024-05-18T15:57:26.720859Z",
     "start_time": "2024-05-18T15:57:26.718948Z"
    },
    "collapsed": false
   },
   "outputs": [],
   "source": [
    "def forward_prop(X, W1, B1, W2, B2):\n",
    "    Z1 = np.dot(W1, X) + B1\n",
    "    A1 = ReLU(Z1)\n",
    "    Z2 = np.dot(W2, A1) + B2\n",
    "    A2 = Z2 # linear activation\n",
    "    return Z1, A1, Z2, A2"
   ]
  },
  {
   "cell_type": "markdown",
   "id": "d1ab17735a35dea3",
   "metadata": {
    "collapsed": false
   },
   "source": [
    "## Model Dimensions\n",
    "$$\n",
    "W1:128*885 \\\\\n",
    "X:885*2388 \\\\\n",
    "B1:128*1 \\\\\n",
    "Z1:128*2388 \\\\\n",
    "A1:128*2388 \\\\\n",
    "W2:1*128 \\\\ \n",
    "B2: 1*1 \\\\\n",
    "Z2: 1*2388 \\\\ \n",
    "A2: 1*2388 \\\\ \n",
    "Y:1*2388\n",
    "$$"
   ]
  },
  {
   "cell_type": "markdown",
   "id": "b853371c59c48017",
   "metadata": {
    "collapsed": false
   },
   "source": [
    "## Forward Propagation:\n",
    "$$\n",
    "Z1 = W1*X + B1\n",
    "\\\\\n",
    "A1 = ReLU(Z1)\n",
    "\\\\\n",
    "\\\\\n",
    "Z2 = W2*A1 + B2\n",
    "\\\\\n",
    "A2 = Z2\n",
    "$$"
   ]
  },
  {
   "cell_type": "markdown",
   "id": "a6ebeeb83a150258",
   "metadata": {
    "collapsed": false
   },
   "source": [
    "## Loss Function (MSE) and Back Propagation\n",
    "$$\n",
    "Loss(A2, Y) = \\frac{1}{2*2388} \\sum_{i=1}^2388 (A_2 - Y) ^ 2\n",
    "$$\n",
    "\n",
    "Gradients:\n",
    "\n",
    "$$\n",
    "dZ_2 = A_2 - Y \\\\\n",
    "\n",
    "$$"
   ]
  },
  {
   "cell_type": "markdown",
   "id": "e5d6608fd47087dc",
   "metadata": {
    "collapsed": false
   },
   "source": [
    "## Define derivative of ReLU and back prop"
   ]
  },
  {
   "cell_type": "code",
   "execution_count": 10,
   "id": "f5ee27788e4fc015",
   "metadata": {
    "ExecuteTime": {
     "end_time": "2024-05-18T15:57:26.723460Z",
     "start_time": "2024-05-18T15:57:26.721453Z"
    },
    "collapsed": false
   },
   "outputs": [],
   "source": [
    "def deriv_ReLU(Z):\n",
    "    return Z > 0\n",
    "\n",
    "def back_prop(X, Y, Z1, A1, Z2, A2, W2):\n",
    "    m = X.shape[1]\n",
    "    \n",
    "    # Output layer gradients\n",
    "    dZ2 = A2 - Y\n",
    "    dW2 = (1 / m) * np.dot(dZ2, A1.T)\n",
    "    dB2 = (1 / m) * np.sum(dZ2)\n",
    "    \n",
    "    # Hidden layer gradients\n",
    "    dA1 = np.dot(W2.T, dZ2)\n",
    "    dZ1 = dA1 * deriv_ReLU(Z1)\n",
    "    dW1 = (1 / m) * np.dot(dZ1, X.T)\n",
    "    dB1 = (1 / m) * np.sum(dZ1)\n",
    "    \n",
    "    return dW1, dB1, dW2, dB2"
   ]
  },
  {
   "cell_type": "markdown",
   "id": "ced285d38be61930",
   "metadata": {
    "collapsed": false
   },
   "source": [
    "## Define loss function"
   ]
  },
  {
   "cell_type": "code",
   "execution_count": 11,
   "id": "d34f1485989a33f7",
   "metadata": {
    "ExecuteTime": {
     "end_time": "2024-05-18T15:57:26.726272Z",
     "start_time": "2024-05-18T15:57:26.724810Z"
    },
    "collapsed": false
   },
   "outputs": [],
   "source": [
    "def compute_loss(Y, A2):\n",
    "    m = Y.shape[1]\n",
    "    loss = (1 / (2 * m)) * np.sum((A2 - Y) ** 2)\n",
    "    return loss"
   ]
  },
  {
   "cell_type": "markdown",
   "id": "4fa019a945fd1b43",
   "metadata": {
    "collapsed": false
   },
   "source": [
    "## Define Gradient descent to update parameters"
   ]
  },
  {
   "cell_type": "code",
   "execution_count": 12,
   "id": "17ce919234f1fab0",
   "metadata": {
    "ExecuteTime": {
     "end_time": "2024-05-18T15:57:26.728528Z",
     "start_time": "2024-05-18T15:57:26.726713Z"
    },
    "collapsed": false
   },
   "outputs": [],
   "source": [
    "def update_parameters(W1, B1, W2, B2, dW1, dB1, dW2, dB2, learning_rate):\n",
    "    W1 -= learning_rate * dW1\n",
    "    B1 -= learning_rate * dB1\n",
    "    W2 -= learning_rate * dW2\n",
    "    B2 -= learning_rate * dB2\n",
    "    return W1, B1, W2, B2"
   ]
  },
  {
   "cell_type": "markdown",
   "id": "740fdc9c996dd5ad",
   "metadata": {
    "collapsed": false
   },
   "source": [
    "## Define Training loop"
   ]
  },
  {
   "cell_type": "code",
   "execution_count": 13,
   "id": "4611f0485c021742",
   "metadata": {
    "ExecuteTime": {
     "end_time": "2024-05-18T15:57:26.731585Z",
     "start_time": "2024-05-18T15:57:26.729346Z"
    },
    "collapsed": false
   },
   "outputs": [],
   "source": [
    "def train(X, Y, learning_rate=0.0001, epochs=1000):\n",
    "    W1, B1, W2, B2 = init_param(input_size = 885, hidden_size = 128, output_size = 1)\n",
    "    \n",
    "    for epoch in range(epochs):\n",
    "        Z1, A1, Z2, A2 = forward_prop(X, W1, B1, W2, B2)\n",
    "        loss = compute_loss(Y, A2)\n",
    "        \n",
    "        \n",
    "        dW1, dB1, dW2, dB2 = back_prop(X, Y, Z1, A1, Z2, A2, W2)\n",
    "        W1, B1, W2, B2 = update_parameters(W1, B1, W2, B2, dW1, dB1, dW2, dB2, learning_rate)\n",
    "        \n",
    "        if epoch % 100 == 0:\n",
    "            print(f'Epoch {epoch}, Loss: {loss}')\n",
    "    \n",
    "    return W1, B1, W2, B2"
   ]
  },
  {
   "cell_type": "markdown",
   "id": "31b6589a0df60eff",
   "metadata": {
    "collapsed": false
   },
   "source": [
    "## Starts training"
   ]
  },
  {
   "cell_type": "code",
   "execution_count": 14,
   "id": "90000743843cc74f",
   "metadata": {
    "ExecuteTime": {
     "end_time": "2024-05-18T15:57:42.374814Z",
     "start_time": "2024-05-18T15:57:26.732205Z"
    },
    "collapsed": false
   },
   "outputs": [
    {
     "name": "stdout",
     "output_type": "stream",
     "text": [
      "Epoch 0, Loss: 19.53322752570043\n"
     ]
    },
    {
     "name": "stdout",
     "output_type": "stream",
     "text": [
      "Epoch 100, Loss: 1.3053604379629051\n"
     ]
    },
    {
     "name": "stdout",
     "output_type": "stream",
     "text": [
      "Epoch 200, Loss: 1.3017362147972464\n"
     ]
    },
    {
     "name": "stdout",
     "output_type": "stream",
     "text": [
      "Epoch 300, Loss: 1.2981095773489093\n"
     ]
    },
    {
     "name": "stdout",
     "output_type": "stream",
     "text": [
      "Epoch 400, Loss: 1.2944692660832624\n"
     ]
    },
    {
     "name": "stdout",
     "output_type": "stream",
     "text": [
      "Epoch 500, Loss: 1.2908065775812898\n"
     ]
    },
    {
     "name": "stdout",
     "output_type": "stream",
     "text": [
      "Epoch 600, Loss: 1.2871118041923082\n"
     ]
    },
    {
     "name": "stdout",
     "output_type": "stream",
     "text": [
      "Epoch 700, Loss: 1.2833796033136433\n"
     ]
    },
    {
     "name": "stdout",
     "output_type": "stream",
     "text": [
      "Epoch 800, Loss: 1.279599821577683\n"
     ]
    },
    {
     "name": "stdout",
     "output_type": "stream",
     "text": [
      "Epoch 900, Loss: 1.2757640150555045\n"
     ]
    }
   ],
   "source": [
    "trained_W1, trained_B1, trained_W2, trained_B2 = train(x_train, y_train)"
   ]
  },
  {
   "cell_type": "markdown",
   "id": "56e7ace2e39d5ba3",
   "metadata": {
    "collapsed": false
   },
   "source": [
    "## With 1000 epoch of training, the loss on the training set is 0.62\n",
    "\n",
    "Test the model on the test set"
   ]
  },
  {
   "cell_type": "code",
   "execution_count": 15,
   "id": "2f634b35b3cc5ffe",
   "metadata": {
    "ExecuteTime": {
     "end_time": "2024-05-18T15:57:42.377747Z",
     "start_time": "2024-05-18T15:57:42.377273Z"
    },
    "collapsed": false
   },
   "outputs": [
    {
     "name": "stdout",
     "output_type": "stream",
     "text": [
      "Prediction : [4.87482357 4.92331901 3.09557398 4.92331901 4.92331901 4.92331901\n",
      " 4.55514306 4.92331901 4.92331901 5.42733867 9.12946456 6.78523428\n",
      " 6.49672711 3.09557398 7.23893633 7.86227152 4.2960192  4.71589222\n",
      " 5.8079007  4.92331901 4.92331901 4.92331901 6.39641101 4.76629884\n",
      " 5.0517421  4.60670681 4.92331901 5.601574   5.74495639 4.92331901\n",
      " 4.92331901 4.89313382 4.92331901 4.92331901 3.87192008 7.20371088\n",
      " 3.55477797 7.82910736 4.89233873 4.9757123  5.46480299 3.1351524\n",
      " 4.88109024 5.68783912 3.89935126 4.92331901 4.92331901 7.37832879\n",
      " 5.09516897 6.84564387]\n",
      "Actual: [6.32239305 5.         4.82073554 6.20065945 5.48148606 5.04575749\n",
      " 4.70114692 4.72746222 5.08249449 8.52287875 5.52287875 4.61618463\n",
      " 5.07572071 4.92481815 8.55284197 4.39794001 4.82102305 4.00674017\n",
      " 5.95860731 5.46852108 5.1948391  4.78914663 5.         4.09151498\n",
      " 4.85387196 4.2756422  4.69897    7.25289907 6.09691001 4.66134433\n",
      " 4.69897    5.         4.73873713 4.73873713 7.49485002 5.\n",
      " 4.60205999 7.26760624 6.86012091 5.05256628 8.79588002 5.14752001\n",
      " 3.95467702 6.07572071 3.30103    4.6476245  4.82419837 4.89962945\n",
      " 4.73165609 6.65757732]\n",
      "loss : 1.1786422443194442\n"
     ]
    }
   ],
   "source": [
    "_, _, _, predicted_A2 = forward_prop(x_test, trained_W1, trained_B1, trained_W2, trained_B2)\n",
    "print(f\"Prediction : {predicted_A2[0][:50]}\")\n",
    "print(f\"Actual: {y_test[0][:50]}\")\n",
    "loss = compute_loss(y_test, predicted_A2)\n",
    "print(f\"loss : {loss}\")"
   ]
  },
  {
   "cell_type": "markdown",
   "id": "2a6a7797351a5b98",
   "metadata": {
    "collapsed": false
   },
   "source": [
    "## Results\n",
    "\n",
    "With 597 samples in the test set, the total loss is 1.18"
   ]
  }
 ],
 "metadata": {
  "kernelspec": {
   "display_name": "Python 3",
   "language": "python",
   "name": "python3"
  },
  "language_info": {
   "codemirror_mode": {
    "name": "ipython",
    "version": 3
   },
   "file_extension": ".py",
   "mimetype": "text/x-python",
   "name": "python",
   "nbconvert_exporter": "python",
   "pygments_lexer": "ipython3",
   "version": "3.12.2"
  }
 },
 "nbformat": 4,
 "nbformat_minor": 5
}
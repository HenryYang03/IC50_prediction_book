{
 "cells": [
  {
   "cell_type": "markdown",
   "source": [
    "# Neural Network Prediction"
   ],
   "metadata": {
    "collapsed": false
   },
   "id": "bcdd8411fc71d1d5"
  },
  {
   "cell_type": "code",
   "execution_count": 530,
   "id": "initial_id",
   "metadata": {
    "collapsed": true,
    "ExecuteTime": {
     "end_time": "2024-05-18T15:38:27.752734Z",
     "start_time": "2024-05-18T15:38:27.749615Z"
    }
   },
   "outputs": [],
   "source": [
    "import numpy as np\n",
    "import pandas as pd\n",
    "from sklearn.model_selection import train_test_split"
   ]
  },
  {
   "cell_type": "code",
   "outputs": [
    {
     "name": "stdout",
     "output_type": "stream",
     "text": [
      "(2985, 885)\n",
      "(2985, 1)\n"
     ]
    }
   ],
   "source": [
    "# read prepared data from previous notebooks\n",
    "X = pd.read_csv('X.csv', index_col=0)\n",
    "Y = pd.read_csv('Y.csv', index_col=0)\n",
    "print(X.shape)\n",
    "print(Y.shape)"
   ],
   "metadata": {
    "collapsed": false,
    "ExecuteTime": {
     "end_time": "2024-05-18T15:38:27.906239Z",
     "start_time": "2024-05-18T15:38:27.795915Z"
    }
   },
   "id": "6484e5d7654bb46b",
   "execution_count": 531
  },
  {
   "cell_type": "markdown",
   "source": [
    "Visualize X and Y dataset"
   ],
   "metadata": {
    "collapsed": false
   },
   "id": "54de4cb89f83a0d"
  },
  {
   "cell_type": "code",
   "outputs": [
    {
     "data": {
      "text/plain": "   mol_weight   log_p  num_h_donors  num_h_acceptors  PubchemFP0  PubchemFP1  \\\n0     311.422  3.3188           1.0              2.0           1           1   \n1     299.461  3.2412           1.0              3.0           1           1   \n2     311.422  3.3188           1.0              2.0           1           1   \n3     327.877  3.8331           1.0              2.0           1           1   \n4     372.328  3.9422           1.0              2.0           1           1   \n\n   PubchemFP2  PubchemFP3  PubchemFP4  PubchemFP5  ...  PubchemFP871  \\\n0           1           0           0           0  ...             0   \n1           1           0           0           0  ...             0   \n2           1           0           0           0  ...             0   \n3           1           0           0           0  ...             0   \n4           1           0           0           0  ...             0   \n\n   PubchemFP872  PubchemFP873  PubchemFP874  PubchemFP875  PubchemFP876  \\\n0             0             0             0             0             0   \n1             0             0             0             0             0   \n2             0             0             0             0             0   \n3             0             0             0             0             0   \n4             0             0             0             0             0   \n\n   PubchemFP877  PubchemFP878  PubchemFP879  PubchemFP880  \n0             0             0             0             0  \n1             0             0             0             0  \n2             0             0             0             0  \n3             0             0             0             0  \n4             0             0             0             0  \n\n[5 rows x 885 columns]",
      "text/html": "<div>\n<style scoped>\n    .dataframe tbody tr th:only-of-type {\n        vertical-align: middle;\n    }\n\n    .dataframe tbody tr th {\n        vertical-align: top;\n    }\n\n    .dataframe thead th {\n        text-align: right;\n    }\n</style>\n<table border=\"1\" class=\"dataframe\">\n  <thead>\n    <tr style=\"text-align: right;\">\n      <th></th>\n      <th>mol_weight</th>\n      <th>log_p</th>\n      <th>num_h_donors</th>\n      <th>num_h_acceptors</th>\n      <th>PubchemFP0</th>\n      <th>PubchemFP1</th>\n      <th>PubchemFP2</th>\n      <th>PubchemFP3</th>\n      <th>PubchemFP4</th>\n      <th>PubchemFP5</th>\n      <th>...</th>\n      <th>PubchemFP871</th>\n      <th>PubchemFP872</th>\n      <th>PubchemFP873</th>\n      <th>PubchemFP874</th>\n      <th>PubchemFP875</th>\n      <th>PubchemFP876</th>\n      <th>PubchemFP877</th>\n      <th>PubchemFP878</th>\n      <th>PubchemFP879</th>\n      <th>PubchemFP880</th>\n    </tr>\n  </thead>\n  <tbody>\n    <tr>\n      <th>0</th>\n      <td>311.422</td>\n      <td>3.3188</td>\n      <td>1.0</td>\n      <td>2.0</td>\n      <td>1</td>\n      <td>1</td>\n      <td>1</td>\n      <td>0</td>\n      <td>0</td>\n      <td>0</td>\n      <td>...</td>\n      <td>0</td>\n      <td>0</td>\n      <td>0</td>\n      <td>0</td>\n      <td>0</td>\n      <td>0</td>\n      <td>0</td>\n      <td>0</td>\n      <td>0</td>\n      <td>0</td>\n    </tr>\n    <tr>\n      <th>1</th>\n      <td>299.461</td>\n      <td>3.2412</td>\n      <td>1.0</td>\n      <td>3.0</td>\n      <td>1</td>\n      <td>1</td>\n      <td>1</td>\n      <td>0</td>\n      <td>0</td>\n      <td>0</td>\n      <td>...</td>\n      <td>0</td>\n      <td>0</td>\n      <td>0</td>\n      <td>0</td>\n      <td>0</td>\n      <td>0</td>\n      <td>0</td>\n      <td>0</td>\n      <td>0</td>\n      <td>0</td>\n    </tr>\n    <tr>\n      <th>2</th>\n      <td>311.422</td>\n      <td>3.3188</td>\n      <td>1.0</td>\n      <td>2.0</td>\n      <td>1</td>\n      <td>1</td>\n      <td>1</td>\n      <td>0</td>\n      <td>0</td>\n      <td>0</td>\n      <td>...</td>\n      <td>0</td>\n      <td>0</td>\n      <td>0</td>\n      <td>0</td>\n      <td>0</td>\n      <td>0</td>\n      <td>0</td>\n      <td>0</td>\n      <td>0</td>\n      <td>0</td>\n    </tr>\n    <tr>\n      <th>3</th>\n      <td>327.877</td>\n      <td>3.8331</td>\n      <td>1.0</td>\n      <td>2.0</td>\n      <td>1</td>\n      <td>1</td>\n      <td>1</td>\n      <td>0</td>\n      <td>0</td>\n      <td>0</td>\n      <td>...</td>\n      <td>0</td>\n      <td>0</td>\n      <td>0</td>\n      <td>0</td>\n      <td>0</td>\n      <td>0</td>\n      <td>0</td>\n      <td>0</td>\n      <td>0</td>\n      <td>0</td>\n    </tr>\n    <tr>\n      <th>4</th>\n      <td>372.328</td>\n      <td>3.9422</td>\n      <td>1.0</td>\n      <td>2.0</td>\n      <td>1</td>\n      <td>1</td>\n      <td>1</td>\n      <td>0</td>\n      <td>0</td>\n      <td>0</td>\n      <td>...</td>\n      <td>0</td>\n      <td>0</td>\n      <td>0</td>\n      <td>0</td>\n      <td>0</td>\n      <td>0</td>\n      <td>0</td>\n      <td>0</td>\n      <td>0</td>\n      <td>0</td>\n    </tr>\n  </tbody>\n</table>\n<p>5 rows × 885 columns</p>\n</div>"
     },
     "execution_count": 532,
     "metadata": {},
     "output_type": "execute_result"
    }
   ],
   "source": [
    "X.head()"
   ],
   "metadata": {
    "collapsed": false,
    "ExecuteTime": {
     "end_time": "2024-05-18T15:38:27.916251Z",
     "start_time": "2024-05-18T15:38:27.907540Z"
    }
   },
   "id": "a4afcf320a1736ce",
   "execution_count": 532
  },
  {
   "cell_type": "code",
   "outputs": [
    {
     "data": {
      "text/plain": "      pIC50\n0  5.301030\n1  5.568636\n2  5.744727\n3  4.958607\n4  5.000000",
      "text/html": "<div>\n<style scoped>\n    .dataframe tbody tr th:only-of-type {\n        vertical-align: middle;\n    }\n\n    .dataframe tbody tr th {\n        vertical-align: top;\n    }\n\n    .dataframe thead th {\n        text-align: right;\n    }\n</style>\n<table border=\"1\" class=\"dataframe\">\n  <thead>\n    <tr style=\"text-align: right;\">\n      <th></th>\n      <th>pIC50</th>\n    </tr>\n  </thead>\n  <tbody>\n    <tr>\n      <th>0</th>\n      <td>5.301030</td>\n    </tr>\n    <tr>\n      <th>1</th>\n      <td>5.568636</td>\n    </tr>\n    <tr>\n      <th>2</th>\n      <td>5.744727</td>\n    </tr>\n    <tr>\n      <th>3</th>\n      <td>4.958607</td>\n    </tr>\n    <tr>\n      <th>4</th>\n      <td>5.000000</td>\n    </tr>\n  </tbody>\n</table>\n</div>"
     },
     "execution_count": 533,
     "metadata": {},
     "output_type": "execute_result"
    }
   ],
   "source": [
    "Y.head()"
   ],
   "metadata": {
    "collapsed": false,
    "ExecuteTime": {
     "end_time": "2024-05-18T15:38:27.920319Z",
     "start_time": "2024-05-18T15:38:27.917018Z"
    }
   },
   "id": "f381d50cd0bde5cd",
   "execution_count": 533
  },
  {
   "cell_type": "markdown",
   "source": [
    "## Building Neural Network\n",
    "\n",
    "Train Test Split\n",
    "Splitting the dataset into training and test sets."
   ],
   "metadata": {
    "collapsed": false
   },
   "id": "8ce6c125d4864204"
  },
  {
   "cell_type": "code",
   "outputs": [
    {
     "name": "stdout",
     "output_type": "stream",
     "text": [
      "(885, 2388)\n",
      "(1, 2388)\n"
     ]
    }
   ],
   "source": [
    "# Get 80% of the dataset as the training set. Put the remaining 20% as the test set: x_test and y_test.\n",
    "x_train, x_test, y_train, y_test = train_test_split(X, Y, test_size = 0.2, random_state = 1)\n",
    "\n",
    "# Transpose the dataset\n",
    "x_train = np.array(x_train.T)\n",
    "x_test = np.array(x_test.T)\n",
    "y_train =np.array(y_train.T)\n",
    "y_test = np.array(y_test.T)\n",
    "\n",
    "# Every column is one sample of chemical compound with a dimension of 885\n",
    "# There are in total 2388 training samples\n",
    "print(x_train.shape)\n",
    "print(y_train.shape)"
   ],
   "metadata": {
    "collapsed": false,
    "ExecuteTime": {
     "end_time": "2024-05-18T15:38:27.956569Z",
     "start_time": "2024-05-18T15:38:27.922702Z"
    }
   },
   "id": "a3ae992ccf4d0914",
   "execution_count": 534
  },
  {
   "cell_type": "markdown",
   "source": [
    "## Defines the input size, hidden size and output size"
   ],
   "metadata": {
    "collapsed": false
   },
   "id": "45e1b80e680862a5"
  },
  {
   "cell_type": "code",
   "outputs": [],
   "source": [
    "input_size = 885\n",
    "hidden_size = 128\n",
    "output_size = 1"
   ],
   "metadata": {
    "collapsed": false,
    "ExecuteTime": {
     "end_time": "2024-05-18T15:38:27.959364Z",
     "start_time": "2024-05-18T15:38:27.957378Z"
    }
   },
   "id": "59377c5cec5c0511",
   "execution_count": 535
  },
  {
   "cell_type": "markdown",
   "source": [
    "Initialize parameters"
   ],
   "metadata": {
    "collapsed": false
   },
   "id": "d8f5e963c442c9d6"
  },
  {
   "cell_type": "code",
   "outputs": [],
   "source": [
    "def init_param(input_size, hidden_size, output_size):\n",
    "    W1 = np.random.randn(hidden_size, input_size) * 0.01\n",
    "    b1 = np.random.randn(hidden_size, 1) * 0.01\n",
    "    W2 = np.random.randn(output_size, hidden_size) * 0.01\n",
    "    b2 = np.random.randn(output_size, 1) * 0.01\n",
    "    return W1, b1, W2, b2"
   ],
   "metadata": {
    "collapsed": false,
    "ExecuteTime": {
     "end_time": "2024-05-18T15:38:27.962183Z",
     "start_time": "2024-05-18T15:38:27.960049Z"
    }
   },
   "id": "b761b6171a917a11",
   "execution_count": 536
  },
  {
   "cell_type": "markdown",
   "source": [
    "Define Relu"
   ],
   "metadata": {
    "collapsed": false
   },
   "id": "db7e017e504c0093"
  },
  {
   "cell_type": "code",
   "outputs": [],
   "source": [
    "def ReLU(Z):\n",
    "    return np.maximum(Z, 0)"
   ],
   "metadata": {
    "collapsed": false,
    "ExecuteTime": {
     "end_time": "2024-05-18T15:38:27.964485Z",
     "start_time": "2024-05-18T15:38:27.962875Z"
    }
   },
   "id": "76efb68fd43898ac",
   "execution_count": 537
  },
  {
   "cell_type": "markdown",
   "source": [
    "## Forward Propagation"
   ],
   "metadata": {
    "collapsed": false
   },
   "id": "29e3fceddf483883"
  },
  {
   "cell_type": "code",
   "outputs": [],
   "source": [
    "def forward_prop(X, W1, B1, W2, B2):\n",
    "    Z1 = np.dot(W1, X) + B1\n",
    "    A1 = ReLU(Z1)\n",
    "    Z2 = np.dot(W2, A1) + B2\n",
    "    A2 = Z2 # linear activation\n",
    "    return Z1, A1, Z2, A2"
   ],
   "metadata": {
    "collapsed": false,
    "ExecuteTime": {
     "end_time": "2024-05-18T15:38:27.967050Z",
     "start_time": "2024-05-18T15:38:27.965153Z"
    }
   },
   "id": "4ea98830538c5aee",
   "execution_count": 538
  },
  {
   "cell_type": "markdown",
   "source": [
    "## Model Dimensions\n",
    "$$\n",
    "W1:128*885 \\\\\n",
    "X:885*2388 \\\\\n",
    "B1:128*1 \\\\\n",
    "Z1:128*2388 \\\\\n",
    "A1:128*2388 \\\\\n",
    "W2:1*128 \\\\ \n",
    "B2: 1*1 \\\\\n",
    "Z2: 1*2388 \\\\ \n",
    "A2: 1*2388 \\\\ \n",
    "Y:1*2388\n",
    "$$"
   ],
   "metadata": {
    "collapsed": false
   },
   "id": "d1ab17735a35dea3"
  },
  {
   "cell_type": "markdown",
   "source": [
    "## Forward Propagation:\n",
    "$$\n",
    "Z1 = W1*X + B1\n",
    "\\\\\n",
    "A1 = ReLU(Z1)\n",
    "\\\\\n",
    "\\\\\n",
    "Z2 = W2*A1 + B2\n",
    "\\\\\n",
    "A2 = Z2\n",
    "$$"
   ],
   "metadata": {
    "collapsed": false
   },
   "id": "b853371c59c48017"
  },
  {
   "cell_type": "markdown",
   "source": [
    "## Loss Function (MSE) and Back Propagation\n",
    "$$\n",
    "Loss(A2, Y) = \\frac{1}{2*2388} \\sum_{i=1}^2388 (A_2 - Y) ^ 2\n",
    "$$\n",
    "\n",
    "Gradients:\n",
    "\n",
    "$$\n",
    "dZ_2 = A_2 - Y \\\\\n",
    "\n",
    "$$"
   ],
   "metadata": {
    "collapsed": false
   },
   "id": "a6ebeeb83a150258"
  },
  {
   "cell_type": "markdown",
   "source": [
    "## Define derivative of ReLU and back prop"
   ],
   "metadata": {
    "collapsed": false
   },
   "id": "e5d6608fd47087dc"
  },
  {
   "cell_type": "code",
   "outputs": [],
   "source": [
    "def deriv_ReLU(Z):\n",
    "    return Z > 0\n",
    "\n",
    "def back_prop(X, Y, Z1, A1, Z2, A2, W2):\n",
    "    m = X.shape[1]\n",
    "    \n",
    "    # Output layer gradients\n",
    "    dZ2 = A2 - Y\n",
    "    dW2 = (1 / m) * np.dot(dZ2, A1.T)\n",
    "    dB2 = (1 / m) * np.sum(dZ2)\n",
    "    \n",
    "    # Hidden layer gradients\n",
    "    dA1 = np.dot(W2.T, dZ2)\n",
    "    dZ1 = dA1 * deriv_ReLU(Z1)\n",
    "    dW1 = (1 / m) * np.dot(dZ1, X.T)\n",
    "    dB1 = (1 / m) * np.sum(dZ1)\n",
    "    \n",
    "    return dW1, dB1, dW2, dB2"
   ],
   "metadata": {
    "collapsed": false,
    "ExecuteTime": {
     "end_time": "2024-05-18T15:38:27.970297Z",
     "start_time": "2024-05-18T15:38:27.967752Z"
    }
   },
   "id": "f5ee27788e4fc015",
   "execution_count": 539
  },
  {
   "cell_type": "markdown",
   "source": [
    "## Define loss function"
   ],
   "metadata": {
    "collapsed": false
   },
   "id": "ced285d38be61930"
  },
  {
   "cell_type": "code",
   "outputs": [],
   "source": [
    "def compute_loss(Y, A2):\n",
    "    m = Y.shape[1]\n",
    "    loss = (1 / (2 * m)) * np.sum((A2 - Y) ** 2)\n",
    "    return loss"
   ],
   "metadata": {
    "collapsed": false,
    "ExecuteTime": {
     "end_time": "2024-05-18T15:38:27.973929Z",
     "start_time": "2024-05-18T15:38:27.972204Z"
    }
   },
   "id": "d34f1485989a33f7",
   "execution_count": 540
  },
  {
   "cell_type": "markdown",
   "source": [
    "## Define Gradient descent to update parameters"
   ],
   "metadata": {
    "collapsed": false
   },
   "id": "4fa019a945fd1b43"
  },
  {
   "cell_type": "code",
   "outputs": [],
   "source": [
    "def update_parameters(W1, B1, W2, B2, dW1, dB1, dW2, dB2, learning_rate):\n",
    "    W1 -= learning_rate * dW1\n",
    "    B1 -= learning_rate * dB1\n",
    "    W2 -= learning_rate * dW2\n",
    "    B2 -= learning_rate * dB2\n",
    "    return W1, B1, W2, B2"
   ],
   "metadata": {
    "collapsed": false,
    "ExecuteTime": {
     "end_time": "2024-05-18T15:38:27.976482Z",
     "start_time": "2024-05-18T15:38:27.974568Z"
    }
   },
   "id": "17ce919234f1fab0",
   "execution_count": 541
  },
  {
   "cell_type": "markdown",
   "source": [
    "## Define Training loop"
   ],
   "metadata": {
    "collapsed": false
   },
   "id": "740fdc9c996dd5ad"
  },
  {
   "cell_type": "code",
   "outputs": [],
   "source": [
    "def train(X, Y, learning_rate=0.00001, epochs=10000):\n",
    "    W1, B1, W2, B2 = init_param(input_size = 885, hidden_size = 128, output_size = 1)\n",
    "    \n",
    "    for epoch in range(epochs):\n",
    "        Z1, A1, Z2, A2 = forward_prop(X, W1, B1, W2, B2)\n",
    "        loss = compute_loss(Y, A2)\n",
    "        \n",
    "        \n",
    "        dW1, dB1, dW2, dB2 = back_prop(X, Y, Z1, A1, Z2, A2, W2)\n",
    "        W1, B1, W2, B2 = update_parameters(W1, B1, W2, B2, dW1, dB1, dW2, dB2, learning_rate)\n",
    "        \n",
    "        if epoch % 100 == 0:\n",
    "            print(f'Epoch {epoch}, Loss: {loss}')\n",
    "    \n",
    "    return W1, B1, W2, B2"
   ],
   "metadata": {
    "collapsed": false,
    "ExecuteTime": {
     "end_time": "2024-05-18T15:38:27.979765Z",
     "start_time": "2024-05-18T15:38:27.977078Z"
    }
   },
   "id": "4611f0485c021742",
   "execution_count": 542
  },
  {
   "cell_type": "markdown",
   "source": [
    "## Starts training"
   ],
   "metadata": {
    "collapsed": false
   },
   "id": "31b6589a0df60eff"
  },
  {
   "cell_type": "code",
   "outputs": [
    {
     "name": "stdout",
     "output_type": "stream",
     "text": [
      "Epoch 0, Loss: 16.616602032977298\n",
      "Epoch 100, Loss: 1.3290296175407015\n",
      "Epoch 200, Loss: 1.320171198600645\n",
      "Epoch 300, Loss: 1.319489105466506\n",
      "Epoch 400, Loss: 1.3190598582911588\n",
      "Epoch 500, Loss: 1.3186704446377715\n",
      "Epoch 600, Loss: 1.3182932676959165\n",
      "Epoch 700, Loss: 1.3179201459370362\n",
      "Epoch 800, Loss: 1.3175483514555704\n",
      "Epoch 900, Loss: 1.3171777805724751\n",
      "Epoch 1000, Loss: 1.3168081347845253\n",
      "Epoch 1100, Loss: 1.3164390878945105\n",
      "Epoch 1200, Loss: 1.3160706242744513\n",
      "Epoch 1300, Loss: 1.3157027441197209\n",
      "Epoch 1400, Loss: 1.3153352870449666\n",
      "Epoch 1500, Loss: 1.3149682009474926\n",
      "Epoch 1600, Loss: 1.3146013760413253\n",
      "Epoch 1700, Loss: 1.3142348152806096\n",
      "Epoch 1800, Loss: 1.3138684268544865\n",
      "Epoch 1900, Loss: 1.3135023004342998\n",
      "Epoch 2000, Loss: 1.3131364508822367\n",
      "Epoch 2100, Loss: 1.3127706571267126\n",
      "Epoch 2200, Loss: 1.312405003614265\n",
      "Epoch 2300, Loss: 1.3120393901324543\n",
      "Epoch 2400, Loss: 1.3116737493901696\n",
      "Epoch 2500, Loss: 1.3113081483567701\n",
      "Epoch 2600, Loss: 1.3109426153170154\n",
      "Epoch 2700, Loss: 1.310576994519048\n",
      "Epoch 2800, Loss: 1.3102114042261446\n",
      "Epoch 2900, Loss: 1.3098457949211797\n",
      "Epoch 3000, Loss: 1.309479539379853\n",
      "Epoch 3100, Loss: 1.3091121406441664\n",
      "Epoch 3200, Loss: 1.3087415923424301\n",
      "Epoch 3300, Loss: 1.3083112167388773\n",
      "Epoch 3400, Loss: 1.3079425207589013\n",
      "Epoch 3500, Loss: 1.307577519566811\n",
      "Epoch 3600, Loss: 1.3072125778799621\n",
      "Epoch 3700, Loss: 1.3068476796146267\n",
      "Epoch 3800, Loss: 1.3064827875020941\n",
      "Epoch 3900, Loss: 1.3061179138430572\n",
      "Epoch 4000, Loss: 1.3057530791707952\n",
      "Epoch 4100, Loss: 1.3053882293769012\n",
      "Epoch 4200, Loss: 1.3050233534047397\n",
      "Epoch 4300, Loss: 1.3046584413065276\n",
      "Epoch 4400, Loss: 1.3042934808158424\n",
      "Epoch 4500, Loss: 1.3039284620805238\n",
      "Epoch 4600, Loss: 1.3035633814175676\n",
      "Epoch 4700, Loss: 1.3031982342558108\n",
      "Epoch 4800, Loss: 1.30283295180617\n",
      "Epoch 4900, Loss: 1.3024676150936263\n",
      "Epoch 5000, Loss: 1.3021021831315656\n",
      "Epoch 5100, Loss: 1.3017366443968421\n",
      "Epoch 5200, Loss: 1.3013709819656931\n",
      "Epoch 5300, Loss: 1.3010052119473634\n",
      "Epoch 5400, Loss: 1.3006393200506772\n",
      "Epoch 5500, Loss: 1.3002733082563478\n",
      "Epoch 5600, Loss: 1.2999071465227696\n",
      "Epoch 5700, Loss: 1.299540835631734\n",
      "Epoch 5800, Loss: 1.299174350978835\n",
      "Epoch 5900, Loss: 1.29880768901519\n",
      "Epoch 6000, Loss: 1.2984408730863937\n",
      "Epoch 6100, Loss: 1.298073892238717\n",
      "Epoch 6200, Loss: 1.2977067180423594\n",
      "Epoch 6300, Loss: 1.2973393394626433\n",
      "Epoch 6400, Loss: 1.2969717544733022\n",
      "Epoch 6500, Loss: 1.2966039368639573\n",
      "Epoch 6600, Loss: 1.2962358848087883\n",
      "Epoch 6700, Loss: 1.2958675958205232\n",
      "Epoch 6800, Loss: 1.295499051992803\n",
      "Epoch 6900, Loss: 1.2951302553497932\n",
      "Epoch 7000, Loss: 1.2947611919638546\n",
      "Epoch 7100, Loss: 1.2943918409321404\n",
      "Epoch 7200, Loss: 1.2940222005885016\n",
      "Epoch 7300, Loss: 1.2936522526112408\n",
      "Epoch 7400, Loss: 1.2932820047625468\n",
      "Epoch 7500, Loss: 1.2929114484954898\n",
      "Epoch 7600, Loss: 1.2925405660527098\n",
      "Epoch 7700, Loss: 1.2921693592416588\n",
      "Epoch 7800, Loss: 1.2917978144848952\n",
      "Epoch 7900, Loss: 1.2914259273364472\n",
      "Epoch 8000, Loss: 1.2910533615132849\n",
      "Epoch 8100, Loss: 1.2906444136042814\n",
      "Epoch 8200, Loss: 1.2902702346991017\n",
      "Epoch 8300, Loss: 1.2898956831259605\n",
      "Epoch 8400, Loss: 1.2895208100244773\n",
      "Epoch 8500, Loss: 1.2891454733076126\n",
      "Epoch 8600, Loss: 1.2887697586492672\n",
      "Epoch 8700, Loss: 1.2883936449297526\n",
      "Epoch 8800, Loss: 1.2880170208204318\n",
      "Epoch 8900, Loss: 1.287640021168542\n",
      "Epoch 9000, Loss: 1.2872626371261697\n",
      "Epoch 9100, Loss: 1.2868848319882438\n",
      "Epoch 9200, Loss: 1.2865066698937422\n",
      "Epoch 9300, Loss: 1.286127948080946\n",
      "Epoch 9400, Loss: 1.2857488172754632\n",
      "Epoch 9500, Loss: 1.2853691610012046\n",
      "Epoch 9600, Loss: 1.2849890199402436\n",
      "Epoch 9700, Loss: 1.2846083606338097\n",
      "Epoch 9800, Loss: 1.284227195423443\n",
      "Epoch 9900, Loss: 1.2838455173396632\n"
     ]
    }
   ],
   "source": [
    "trained_W1, trained_B1, trained_W2, trained_B2 = train(x_train, y_train)"
   ],
   "metadata": {
    "collapsed": false,
    "ExecuteTime": {
     "end_time": "2024-05-18T15:41:39.184406Z",
     "start_time": "2024-05-18T15:38:27.980456Z"
    }
   },
   "id": "90000743843cc74f",
   "execution_count": 543
  },
  {
   "cell_type": "markdown",
   "source": [
    "## With 1000 epoch of training, the loss on the training set is 0.62\n",
    "\n",
    "Test the model on the test set"
   ],
   "metadata": {
    "collapsed": false
   },
   "id": "56e7ace2e39d5ba3"
  },
  {
   "cell_type": "code",
   "outputs": [
    {
     "name": "stdout",
     "output_type": "stream",
     "text": [
      "Prediction : [4.868853   4.90793499 3.08899235 4.90793499 4.90793499 4.90793499\n",
      " 4.52871878 4.90793499 4.90793499 5.43212571 9.13570312 6.81862166\n",
      " 6.52995973 3.08899235 7.27004209 7.86382231 4.2559559  4.68993178\n",
      " 5.84571153 4.90793499 4.90793499 4.90793499 6.44453921 4.74600482\n",
      " 5.02425479 4.60958947 4.90793499 5.59741358 5.75928501 4.90793499\n",
      " 4.90793499 4.88685491 4.90793499 4.90793499 3.8579269  7.22489591\n",
      " 3.5489891  7.84751421 4.88069935 4.99797807 5.44625825 3.10741725\n",
      " 4.87880655 5.68599587 3.86445087 4.90793499 4.90793499 7.38390457\n",
      " 5.10593887 6.87896247]\n",
      "Actual: [6.32239305 5.         4.82073554 6.20065945 5.48148606 5.04575749\n",
      " 4.70114692 4.72746222 5.08249449 8.52287875 5.52287875 4.61618463\n",
      " 5.07572071 4.92481815 8.55284197 4.39794001 4.82102305 4.00674017\n",
      " 5.95860731 5.46852108 5.1948391  4.78914663 5.         4.09151498\n",
      " 4.85387196 4.2756422  4.69897    7.25289907 6.09691001 4.66134433\n",
      " 4.69897    5.         4.73873713 4.73873713 7.49485002 5.\n",
      " 4.60205999 7.26760624 6.86012091 5.05256628 8.79588002 5.14752001\n",
      " 3.95467702 6.07572071 3.30103    4.6476245  4.82419837 4.89962945\n",
      " 4.73165609 6.65757732]\n",
      "loss : 1.189142296872018\n"
     ]
    }
   ],
   "source": [
    "_, _, _, predicted_A2 = forward_prop(x_test, trained_W1, trained_B1, trained_W2, trained_B2)\n",
    "print(f\"Prediction : {predicted_A2[0][:50]}\")\n",
    "print(f\"Actual: {y_test[0][:50]}\")\n",
    "loss = compute_loss(y_test, predicted_A2)\n",
    "print(f\"loss : {loss}\")"
   ],
   "metadata": {
    "collapsed": false,
    "ExecuteTime": {
     "end_time": "2024-05-18T15:43:26.020183Z",
     "start_time": "2024-05-18T15:43:25.970983Z"
    }
   },
   "id": "2f634b35b3cc5ffe",
   "execution_count": 545
  },
  {
   "cell_type": "markdown",
   "source": [
    "## Results\n",
    "\n",
    "With 597 samples in the test set, the total loss is 1.18"
   ],
   "metadata": {
    "collapsed": false
   },
   "id": "2a6a7797351a5b98"
  }
 ],
 "metadata": {
  "kernelspec": {
   "display_name": "Python 3",
   "language": "python",
   "name": "python3"
  },
  "language_info": {
   "codemirror_mode": {
    "name": "ipython",
    "version": 2
   },
   "file_extension": ".py",
   "mimetype": "text/x-python",
   "name": "python",
   "nbconvert_exporter": "python",
   "pygments_lexer": "ipython2",
   "version": "2.7.6"
  }
 },
 "nbformat": 4,
 "nbformat_minor": 5
}

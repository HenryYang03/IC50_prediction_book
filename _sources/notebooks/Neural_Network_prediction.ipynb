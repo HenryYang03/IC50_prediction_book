{
 "cells": [
  {
   "cell_type": "markdown",
   "source": [
    "# Neural Network Prediction"
   ],
   "metadata": {
    "collapsed": false
   },
   "id": "bcdd8411fc71d1d5"
  },
  {
   "cell_type": "code",
   "execution_count": 624,
   "id": "initial_id",
   "metadata": {
    "collapsed": true,
    "ExecuteTime": {
     "end_time": "2024-05-18T19:37:13.484294Z",
     "start_time": "2024-05-18T19:37:13.479226Z"
    }
   },
   "outputs": [],
   "source": [
    "import numpy as np\n",
    "import pandas as pd\n",
    "import matplotlib.pyplot as plt\n",
    "from sklearn.model_selection import train_test_split"
   ]
  },
  {
   "cell_type": "code",
   "outputs": [
    {
     "name": "stdout",
     "output_type": "stream",
     "text": [
      "(2985, 885)\n",
      "(2985, 1)\n"
     ]
    }
   ],
   "source": [
    "# read prepared data from previous notebooks\n",
    "X = pd.read_csv('X.csv', index_col=0)\n",
    "Y = pd.read_csv('Y.csv', index_col=0)\n",
    "print(X.shape)\n",
    "print(Y.shape)"
   ],
   "metadata": {
    "collapsed": false,
    "ExecuteTime": {
     "end_time": "2024-05-18T19:37:13.650614Z",
     "start_time": "2024-05-18T19:37:13.537403Z"
    }
   },
   "id": "6484e5d7654bb46b",
   "execution_count": 625
  },
  {
   "cell_type": "markdown",
   "source": [
    "Visualize X and Y dataset"
   ],
   "metadata": {
    "collapsed": false
   },
   "id": "54de4cb89f83a0d"
  },
  {
   "cell_type": "code",
   "outputs": [
    {
     "data": {
      "text/plain": "   mol_weight   log_p  num_h_donors  num_h_acceptors  PubchemFP0  PubchemFP1  \\\n0     311.422  3.3188           1.0              2.0           1           1   \n1     299.461  3.2412           1.0              3.0           1           1   \n2     311.422  3.3188           1.0              2.0           1           1   \n3     327.877  3.8331           1.0              2.0           1           1   \n4     372.328  3.9422           1.0              2.0           1           1   \n\n   PubchemFP2  PubchemFP3  PubchemFP4  PubchemFP5  ...  PubchemFP871  \\\n0           1           0           0           0  ...             0   \n1           1           0           0           0  ...             0   \n2           1           0           0           0  ...             0   \n3           1           0           0           0  ...             0   \n4           1           0           0           0  ...             0   \n\n   PubchemFP872  PubchemFP873  PubchemFP874  PubchemFP875  PubchemFP876  \\\n0             0             0             0             0             0   \n1             0             0             0             0             0   \n2             0             0             0             0             0   \n3             0             0             0             0             0   \n4             0             0             0             0             0   \n\n   PubchemFP877  PubchemFP878  PubchemFP879  PubchemFP880  \n0             0             0             0             0  \n1             0             0             0             0  \n2             0             0             0             0  \n3             0             0             0             0  \n4             0             0             0             0  \n\n[5 rows x 885 columns]",
      "text/html": "<div>\n<style scoped>\n    .dataframe tbody tr th:only-of-type {\n        vertical-align: middle;\n    }\n\n    .dataframe tbody tr th {\n        vertical-align: top;\n    }\n\n    .dataframe thead th {\n        text-align: right;\n    }\n</style>\n<table border=\"1\" class=\"dataframe\">\n  <thead>\n    <tr style=\"text-align: right;\">\n      <th></th>\n      <th>mol_weight</th>\n      <th>log_p</th>\n      <th>num_h_donors</th>\n      <th>num_h_acceptors</th>\n      <th>PubchemFP0</th>\n      <th>PubchemFP1</th>\n      <th>PubchemFP2</th>\n      <th>PubchemFP3</th>\n      <th>PubchemFP4</th>\n      <th>PubchemFP5</th>\n      <th>...</th>\n      <th>PubchemFP871</th>\n      <th>PubchemFP872</th>\n      <th>PubchemFP873</th>\n      <th>PubchemFP874</th>\n      <th>PubchemFP875</th>\n      <th>PubchemFP876</th>\n      <th>PubchemFP877</th>\n      <th>PubchemFP878</th>\n      <th>PubchemFP879</th>\n      <th>PubchemFP880</th>\n    </tr>\n  </thead>\n  <tbody>\n    <tr>\n      <th>0</th>\n      <td>311.422</td>\n      <td>3.3188</td>\n      <td>1.0</td>\n      <td>2.0</td>\n      <td>1</td>\n      <td>1</td>\n      <td>1</td>\n      <td>0</td>\n      <td>0</td>\n      <td>0</td>\n      <td>...</td>\n      <td>0</td>\n      <td>0</td>\n      <td>0</td>\n      <td>0</td>\n      <td>0</td>\n      <td>0</td>\n      <td>0</td>\n      <td>0</td>\n      <td>0</td>\n      <td>0</td>\n    </tr>\n    <tr>\n      <th>1</th>\n      <td>299.461</td>\n      <td>3.2412</td>\n      <td>1.0</td>\n      <td>3.0</td>\n      <td>1</td>\n      <td>1</td>\n      <td>1</td>\n      <td>0</td>\n      <td>0</td>\n      <td>0</td>\n      <td>...</td>\n      <td>0</td>\n      <td>0</td>\n      <td>0</td>\n      <td>0</td>\n      <td>0</td>\n      <td>0</td>\n      <td>0</td>\n      <td>0</td>\n      <td>0</td>\n      <td>0</td>\n    </tr>\n    <tr>\n      <th>2</th>\n      <td>311.422</td>\n      <td>3.3188</td>\n      <td>1.0</td>\n      <td>2.0</td>\n      <td>1</td>\n      <td>1</td>\n      <td>1</td>\n      <td>0</td>\n      <td>0</td>\n      <td>0</td>\n      <td>...</td>\n      <td>0</td>\n      <td>0</td>\n      <td>0</td>\n      <td>0</td>\n      <td>0</td>\n      <td>0</td>\n      <td>0</td>\n      <td>0</td>\n      <td>0</td>\n      <td>0</td>\n    </tr>\n    <tr>\n      <th>3</th>\n      <td>327.877</td>\n      <td>3.8331</td>\n      <td>1.0</td>\n      <td>2.0</td>\n      <td>1</td>\n      <td>1</td>\n      <td>1</td>\n      <td>0</td>\n      <td>0</td>\n      <td>0</td>\n      <td>...</td>\n      <td>0</td>\n      <td>0</td>\n      <td>0</td>\n      <td>0</td>\n      <td>0</td>\n      <td>0</td>\n      <td>0</td>\n      <td>0</td>\n      <td>0</td>\n      <td>0</td>\n    </tr>\n    <tr>\n      <th>4</th>\n      <td>372.328</td>\n      <td>3.9422</td>\n      <td>1.0</td>\n      <td>2.0</td>\n      <td>1</td>\n      <td>1</td>\n      <td>1</td>\n      <td>0</td>\n      <td>0</td>\n      <td>0</td>\n      <td>...</td>\n      <td>0</td>\n      <td>0</td>\n      <td>0</td>\n      <td>0</td>\n      <td>0</td>\n      <td>0</td>\n      <td>0</td>\n      <td>0</td>\n      <td>0</td>\n      <td>0</td>\n    </tr>\n  </tbody>\n</table>\n<p>5 rows × 885 columns</p>\n</div>"
     },
     "execution_count": 626,
     "metadata": {},
     "output_type": "execute_result"
    }
   ],
   "source": [
    "X.head()"
   ],
   "metadata": {
    "collapsed": false,
    "ExecuteTime": {
     "end_time": "2024-05-18T19:37:13.667807Z",
     "start_time": "2024-05-18T19:37:13.652079Z"
    }
   },
   "id": "a4afcf320a1736ce",
   "execution_count": 626
  },
  {
   "cell_type": "code",
   "outputs": [
    {
     "data": {
      "text/plain": "      pIC50\n0  5.301030\n1  5.568636\n2  5.744727\n3  4.958607\n4  5.000000",
      "text/html": "<div>\n<style scoped>\n    .dataframe tbody tr th:only-of-type {\n        vertical-align: middle;\n    }\n\n    .dataframe tbody tr th {\n        vertical-align: top;\n    }\n\n    .dataframe thead th {\n        text-align: right;\n    }\n</style>\n<table border=\"1\" class=\"dataframe\">\n  <thead>\n    <tr style=\"text-align: right;\">\n      <th></th>\n      <th>pIC50</th>\n    </tr>\n  </thead>\n  <tbody>\n    <tr>\n      <th>0</th>\n      <td>5.301030</td>\n    </tr>\n    <tr>\n      <th>1</th>\n      <td>5.568636</td>\n    </tr>\n    <tr>\n      <th>2</th>\n      <td>5.744727</td>\n    </tr>\n    <tr>\n      <th>3</th>\n      <td>4.958607</td>\n    </tr>\n    <tr>\n      <th>4</th>\n      <td>5.000000</td>\n    </tr>\n  </tbody>\n</table>\n</div>"
     },
     "execution_count": 627,
     "metadata": {},
     "output_type": "execute_result"
    }
   ],
   "source": [
    "Y.head()"
   ],
   "metadata": {
    "collapsed": false,
    "ExecuteTime": {
     "end_time": "2024-05-18T19:37:13.672057Z",
     "start_time": "2024-05-18T19:37:13.668495Z"
    }
   },
   "id": "f381d50cd0bde5cd",
   "execution_count": 627
  },
  {
   "cell_type": "markdown",
   "source": [
    "## Building Neural Network\n",
    "\n",
    "Train Test Split\n",
    "Splitting the dataset into training and test sets."
   ],
   "metadata": {
    "collapsed": false
   },
   "id": "8ce6c125d4864204"
  },
  {
   "cell_type": "code",
   "outputs": [
    {
     "name": "stdout",
     "output_type": "stream",
     "text": [
      "(885, 2388)\n",
      "(1, 2388)\n"
     ]
    }
   ],
   "source": [
    "# Get 80% of the dataset as the training set. Put the remaining 20% as the test set: x_test and y_test.\n",
    "x_train, x_test, y_train, y_test = train_test_split(X, Y, test_size = 0.2, random_state = 1)\n",
    "\n",
    "# Transpose the dataset\n",
    "x_train = np.array(x_train.T)\n",
    "x_test = np.array(x_test.T)\n",
    "y_train =np.array(y_train.T)\n",
    "y_test = np.array(y_test.T)\n",
    "\n",
    "# Every column is one sample of chemical compound with a dimension of 885\n",
    "# There are in total 2388 training samples\n",
    "print(x_train.shape)\n",
    "print(y_train.shape)"
   ],
   "metadata": {
    "collapsed": false,
    "ExecuteTime": {
     "end_time": "2024-05-18T19:37:13.705243Z",
     "start_time": "2024-05-18T19:37:13.673755Z"
    }
   },
   "id": "a3ae992ccf4d0914",
   "execution_count": 628
  },
  {
   "cell_type": "markdown",
   "source": [
    "## Defines the input size, hidden size and output size"
   ],
   "metadata": {
    "collapsed": false
   },
   "id": "45e1b80e680862a5"
  },
  {
   "cell_type": "code",
   "outputs": [],
   "source": [
    "input_size = 885\n",
    "hidden_size = 128\n",
    "output_size = 1"
   ],
   "metadata": {
    "collapsed": false,
    "ExecuteTime": {
     "end_time": "2024-05-18T19:37:13.710011Z",
     "start_time": "2024-05-18T19:37:13.707144Z"
    }
   },
   "id": "59377c5cec5c0511",
   "execution_count": 629
  },
  {
   "cell_type": "markdown",
   "source": [
    "Initialize parameters"
   ],
   "metadata": {
    "collapsed": false
   },
   "id": "d8f5e963c442c9d6"
  },
  {
   "cell_type": "code",
   "outputs": [],
   "source": [
    "def init_param(input_size, hidden_size, output_size):\n",
    "    W1 = np.random.randn(hidden_size, input_size) * 0.01\n",
    "    b1 = np.random.randn(hidden_size, 1) * 0.01\n",
    "    W2 = np.random.randn(output_size, hidden_size) * 0.01\n",
    "    b2 = np.random.randn(output_size, 1) * 0.01\n",
    "    return W1, b1, W2, b2"
   ],
   "metadata": {
    "collapsed": false,
    "ExecuteTime": {
     "end_time": "2024-05-18T19:37:13.713202Z",
     "start_time": "2024-05-18T19:37:13.710927Z"
    }
   },
   "id": "b761b6171a917a11",
   "execution_count": 630
  },
  {
   "cell_type": "markdown",
   "source": [
    "Define Relu"
   ],
   "metadata": {
    "collapsed": false
   },
   "id": "db7e017e504c0093"
  },
  {
   "cell_type": "code",
   "outputs": [],
   "source": [
    "def ReLU(Z):\n",
    "    return np.maximum(Z, 0)"
   ],
   "metadata": {
    "collapsed": false,
    "ExecuteTime": {
     "end_time": "2024-05-18T19:37:13.715876Z",
     "start_time": "2024-05-18T19:37:13.714110Z"
    }
   },
   "id": "76efb68fd43898ac",
   "execution_count": 631
  },
  {
   "cell_type": "markdown",
   "source": [
    "## Forward Propagation\n",
    "\n"
   ],
   "metadata": {
    "collapsed": false
   },
   "id": "29e3fceddf483883"
  },
  {
   "cell_type": "code",
   "outputs": [],
   "source": [
    "def forward_prop(X, W1, B1, W2, B2, dropout_rate = 0.5):\n",
    "    Z1 = np.dot(W1, X) + B1\n",
    "    A1 = ReLU(Z1)\n",
    "\n",
    "    Z2 = np.dot(W2, A1) + B2\n",
    "    A2 = Z2 # linear activation\n",
    "    return Z1, A1, Z2, A2"
   ],
   "metadata": {
    "collapsed": false,
    "ExecuteTime": {
     "end_time": "2024-05-18T19:37:13.718686Z",
     "start_time": "2024-05-18T19:37:13.716409Z"
    }
   },
   "id": "4ea98830538c5aee",
   "execution_count": 632
  },
  {
   "cell_type": "markdown",
   "source": [
    "## Model Dimensions\n",
    "$$\n",
    "W1:128*885 \\\\\n",
    "X:885*2388 \\\\\n",
    "B1:128*1 \\\\\n",
    "Z1:128*2388 \\\\\n",
    "A1:128*2388 \\\\\n",
    "W2:1*128 \\\\ \n",
    "B2: 1*1 \\\\\n",
    "Z2: 1*2388 \\\\ \n",
    "A2: 1*2388 \\\\ \n",
    "Y:1*2388\n",
    "$$"
   ],
   "metadata": {
    "collapsed": false
   },
   "id": "d1ab17735a35dea3"
  },
  {
   "cell_type": "markdown",
   "source": [
    "## Forward Propagation:\n",
    "$$\n",
    "Z1 = W1*X + B1\n",
    "\\\\\n",
    "A1 = ReLU(Z1)\n",
    "\\\\\n",
    "\\\\\n",
    "Z2 = W2*A1 + B2\n",
    "\\\\\n",
    "A2 = Z2\n",
    "$$"
   ],
   "metadata": {
    "collapsed": false
   },
   "id": "b853371c59c48017"
  },
  {
   "cell_type": "markdown",
   "source": [
    "## Loss Function (MSE) and Back Propagation\n",
    "$$\n",
    "Loss(A2, Y) = \\frac{1}{2*2388} \\sum_{i=1}^{2388} (A_2 - Y) ^ 2\n",
    "$$\n",
    "\n",
    "Gradients:\n",
    "\n",
    "$$\n",
    "dZ_2 = A_2 - Y \\\\\n",
    "dW_2 = 1/m dZ_2 * A_1^T \\\\\n",
    "dB_2 = 1/m \\sum_{i=1}^{2388} dZ_2 \\\\\n",
    "dA_1 = W_2^T * dZ_2 \\\\\n",
    "dZ_1 = dA_1 * dReLU(Z_1) \\\\\n",
    "dW_1 = 1/m dZ_1 * X^T \\\\\n",
    "dB_1 = 1/m \\sum_{i=1}^{2388} dZ_1\n",
    "$$"
   ],
   "metadata": {
    "collapsed": false
   },
   "id": "a6ebeeb83a150258"
  },
  {
   "cell_type": "markdown",
   "source": [
    "## Define derivative of ReLU and back prop"
   ],
   "metadata": {
    "collapsed": false
   },
   "id": "e5d6608fd47087dc"
  },
  {
   "cell_type": "code",
   "outputs": [],
   "source": [
    "def deriv_ReLU(Z):\n",
    "    return Z > 0\n",
    "\n",
    "def back_prop(X, Y, Z1, A1, Z2, A2, W2):\n",
    "    m = X.shape[1]\n",
    "    \n",
    "    # Output layer gradients\n",
    "    dZ2 = A2 - Y\n",
    "    dW2 = (1 / m) * np.dot(dZ2, A1.T)\n",
    "    dB2 = (1 / m) * np.sum(dZ2)\n",
    "    \n",
    "    # Hidden layer gradients\n",
    "    dA1 = np.dot(W2.T, dZ2)\n",
    "    dZ1 = dA1 * deriv_ReLU(Z1)\n",
    "    dW1 = (1 / m) * np.dot(dZ1, X.T)\n",
    "    dB1 = (1 / m) * np.sum(dZ1)\n",
    "    \n",
    "    return dW1, dB1, dW2, dB2"
   ],
   "metadata": {
    "collapsed": false,
    "ExecuteTime": {
     "end_time": "2024-05-18T19:37:13.722063Z",
     "start_time": "2024-05-18T19:37:13.719396Z"
    }
   },
   "id": "f5ee27788e4fc015",
   "execution_count": 633
  },
  {
   "cell_type": "markdown",
   "source": [
    "## Define loss function"
   ],
   "metadata": {
    "collapsed": false
   },
   "id": "ced285d38be61930"
  },
  {
   "cell_type": "code",
   "outputs": [],
   "source": [
    "def compute_loss(Y, A2):\n",
    "    m = Y.shape[1]\n",
    "    loss = (1 / (2 * m)) * np.sum((A2 - Y) ** 2)\n",
    "    return loss"
   ],
   "metadata": {
    "collapsed": false,
    "ExecuteTime": {
     "end_time": "2024-05-18T19:37:13.726205Z",
     "start_time": "2024-05-18T19:37:13.724274Z"
    }
   },
   "id": "d34f1485989a33f7",
   "execution_count": 634
  },
  {
   "cell_type": "markdown",
   "source": [
    "## Define Gradient descent to update parameters"
   ],
   "metadata": {
    "collapsed": false
   },
   "id": "4fa019a945fd1b43"
  },
  {
   "cell_type": "code",
   "outputs": [],
   "source": [
    "def update_parameters(W1, B1, W2, B2, dW1, dB1, dW2, dB2, learning_rate):\n",
    "    W1 -= learning_rate * dW1\n",
    "    B1 -= learning_rate * dB1\n",
    "    W2 -= learning_rate * dW2\n",
    "    B2 -= learning_rate * dB2\n",
    "    return W1, B1, W2, B2"
   ],
   "metadata": {
    "collapsed": false,
    "ExecuteTime": {
     "end_time": "2024-05-18T19:37:13.728831Z",
     "start_time": "2024-05-18T19:37:13.726827Z"
    }
   },
   "id": "17ce919234f1fab0",
   "execution_count": 635
  },
  {
   "cell_type": "markdown",
   "source": [
    "## Define Training loop"
   ],
   "metadata": {
    "collapsed": false
   },
   "id": "740fdc9c996dd5ad"
  },
  {
   "cell_type": "code",
   "outputs": [],
   "source": [
    "def train(X, Y, learning_rate=0.0001, epochs=100):\n",
    "    W1, B1, W2, B2 = init_param(input_size = 885, hidden_size = 128, output_size = 1)\n",
    "    loss_history = []\n",
    "    \n",
    "    for epoch in range(epochs):\n",
    "        Z1, A1, Z2, A2 = forward_prop(X, W1, B1, W2, B2)\n",
    "        loss = compute_loss(Y, A2)\n",
    "        loss_history.append(loss)\n",
    "        \n",
    "        \n",
    "        dW1, dB1, dW2, dB2 = back_prop(X, Y, Z1, A1, Z2, A2, W2)\n",
    "        W1, B1, W2, B2 = update_parameters(W1, B1, W2, B2, dW1, dB1, dW2, dB2, learning_rate)\n",
    "        \n",
    "        if epoch % 100 == 0:\n",
    "            print(f'Epoch {epoch}, Loss: {loss}')\n",
    "    \n",
    "    return W1, B1, W2, B2, loss_history"
   ],
   "metadata": {
    "collapsed": false,
    "ExecuteTime": {
     "end_time": "2024-05-18T19:37:13.732481Z",
     "start_time": "2024-05-18T19:37:13.729535Z"
    }
   },
   "id": "4611f0485c021742",
   "execution_count": 636
  },
  {
   "cell_type": "markdown",
   "source": [
    "## Starts training"
   ],
   "metadata": {
    "collapsed": false
   },
   "id": "31b6589a0df60eff"
  },
  {
   "cell_type": "code",
   "outputs": [
    {
     "name": "stdout",
     "output_type": "stream",
     "text": [
      "Epoch 0, Loss: 18.14517667315562\n"
     ]
    }
   ],
   "source": [
    "trained_W1, trained_B1, trained_W2, trained_B2, loss_history = train(x_train, y_train)"
   ],
   "metadata": {
    "collapsed": false,
    "ExecuteTime": {
     "end_time": "2024-05-18T19:37:16.320047Z",
     "start_time": "2024-05-18T19:37:13.733082Z"
    }
   },
   "id": "90000743843cc74f",
   "execution_count": 637
  },
  {
   "cell_type": "markdown",
   "source": [
    "## Visualize the training loss"
   ],
   "metadata": {
    "collapsed": false
   },
   "id": "54cf02eb1b73f9fb"
  },
  {
   "cell_type": "code",
   "outputs": [
    {
     "data": {
      "text/plain": "[<matplotlib.lines.Line2D at 0x15726d010>]"
     },
     "execution_count": 638,
     "metadata": {},
     "output_type": "execute_result"
    },
    {
     "data": {
      "text/plain": "<Figure size 640x480 with 1 Axes>",
      "image/png": "[encoded data removed]"
     },
     "metadata": {},
     "output_type": "display_data"
    }
   ],
   "source": [
    "plt.xlim(0, 10)\n",
    "plt.plot(loss_history)"
   ],
   "metadata": {
    "collapsed": false,
    "ExecuteTime": {
     "end_time": "2024-05-18T19:37:16.461580Z",
     "start_time": "2024-05-18T19:37:16.321747Z"
    }
   },
   "id": "e3f1b9ec05f74b9",
   "execution_count": 638
  },
  {
   "cell_type": "markdown",
   "source": [
    "## With 100 epoch of training, the loss on the training set is calculated\n",
    "\n",
    "Test the model on the test set"
   ],
   "metadata": {
    "collapsed": false
   },
   "id": "56e7ace2e39d5ba3"
  },
  {
   "cell_type": "code",
   "outputs": [
    {
     "name": "stdout",
     "output_type": "stream",
     "text": [
      "Prediction : [4.84308151 4.90145724 3.04161247 4.90145724 4.90145724 4.90145724\n",
      " 4.52320946 4.90145724 4.90145724 5.42058022 9.20479824 6.83439913\n",
      " 6.53607182 3.04161247 7.32220919 7.8777435  4.23762537 4.68793413\n",
      " 5.83027131 4.90145724 4.90145724 4.90145724 6.44825838 4.75376643\n",
      " 5.02250915 4.58398121 4.90145724 5.59001831 5.75417458 4.90145724\n",
      " 4.90145724 4.84709724 4.90145724 4.90145724 3.80235823 7.25785036\n",
      " 3.5276447  7.88031896 4.85341312 4.96466803 5.44642478 3.07590706\n",
      " 4.88727039 5.6523756  3.85056287 4.90145724 4.90145724 7.3847308\n",
      " 5.10395152 6.92103281]\n",
      "Actual: [6.32239305 5.         4.82073554 6.20065945 5.48148606 5.04575749\n",
      " 4.70114692 4.72746222 5.08249449 8.52287875 5.52287875 4.61618463\n",
      " 5.07572071 4.92481815 8.55284197 4.39794001 4.82102305 4.00674017\n",
      " 5.95860731 5.46852108 5.1948391  4.78914663 5.         4.09151498\n",
      " 4.85387196 4.2756422  4.69897    7.25289907 6.09691001 4.66134433\n",
      " 4.69897    5.         4.73873713 4.73873713 7.49485002 5.\n",
      " 4.60205999 7.26760624 6.86012091 5.05256628 8.79588002 5.14752001\n",
      " 3.95467702 6.07572071 3.30103    4.6476245  4.82419837 4.89962945\n",
      " 4.73165609 6.65757732]\n",
      "loss : 1.2159501321405257\n"
     ]
    }
   ],
   "source": [
    "_, _, _, predicted_A2 = forward_prop(x_test, trained_W1, trained_B1, trained_W2, trained_B2)\n",
    "print(f\"Prediction : {predicted_A2[0][:50]}\")\n",
    "print(f\"Actual: {y_test[0][:50]}\")\n",
    "loss = compute_loss(y_test, predicted_A2)\n",
    "print(f\"loss : {loss}\")"
   ],
   "metadata": {
    "collapsed": false,
    "ExecuteTime": {
     "end_time": "2024-05-18T19:37:16.481201Z",
     "start_time": "2024-05-18T19:37:16.465292Z"
    }
   },
   "id": "2f634b35b3cc5ffe",
   "execution_count": 639
  },
  {
   "cell_type": "markdown",
   "source": [
    "## Results\n",
    "\n",
    "With 597 samples in the test set, the total loss is around 1.2."
   ],
   "metadata": {
    "collapsed": false
   },
   "id": "2a6a7797351a5b98"
  }
 ],
 "metadata": {
  "kernelspec": {
   "display_name": "Python 3",
   "language": "python",
   "name": "python3"
  },
  "language_info": {
   "codemirror_mode": {
    "name": "ipython",
    "version": 2
   },
   "file_extension": ".py",
   "mimetype": "text/x-python",
   "name": "python",
   "nbconvert_exporter": "python",
   "pygments_lexer": "ipython2",
   "version": "2.7.6"
  }
 },
 "nbformat": 4,
 "nbformat_minor": 5
}

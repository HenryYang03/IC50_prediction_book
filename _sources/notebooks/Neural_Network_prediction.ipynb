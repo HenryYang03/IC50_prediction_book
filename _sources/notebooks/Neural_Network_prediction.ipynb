{
 "cells": [
  {
   "cell_type": "markdown",
   "source": [
    "# Neural Network Prediction"
   ],
   "metadata": {
    "collapsed": false
   },
   "id": "bcdd8411fc71d1d5"
  },
  {
   "cell_type": "code",
   "id": "initial_id",
   "metadata": {
    "collapsed": true,
    "ExecuteTime": {
     "end_time": "2024-05-22T07:40:09.538207Z",
     "start_time": "2024-05-22T07:40:09.535284Z"
    }
   },
   "source": [
    "import numpy as np\n",
    "import pandas as pd\n",
    "import matplotlib.pyplot as plt\n",
    "from sklearn.model_selection import train_test_split"
   ],
   "outputs": [],
   "execution_count": 62
  },
  {
   "cell_type": "code",
   "source": [
    "# read prepared data from previous notebooks\n",
    "X = pd.read_csv('X.csv', index_col=0)\n",
    "Y = pd.read_csv('Y.csv', index_col=0)\n",
    "print(X.shape)\n",
    "print(Y.shape)"
   ],
   "metadata": {
    "collapsed": false,
    "ExecuteTime": {
     "end_time": "2024-05-22T07:40:09.706807Z",
     "start_time": "2024-05-22T07:40:09.601956Z"
    }
   },
   "id": "6484e5d7654bb46b",
   "outputs": [
    {
     "name": "stdout",
     "output_type": "stream",
     "text": [
      "(2985, 885)\n",
      "(2985, 1)\n"
     ]
    }
   ],
   "execution_count": 63
  },
  {
   "cell_type": "markdown",
   "source": [
    "Visualize X and Y dataset"
   ],
   "metadata": {
    "collapsed": false
   },
   "id": "54de4cb89f83a0d"
  },
  {
   "cell_type": "code",
   "source": [
    "X.head()"
   ],
   "metadata": {
    "collapsed": false,
    "ExecuteTime": {
     "end_time": "2024-05-22T07:40:09.717075Z",
     "start_time": "2024-05-22T07:40:09.708422Z"
    }
   },
   "id": "a4afcf320a1736ce",
   "outputs": [
    {
     "data": {
      "text/plain": [
       "   mol_weight   log_p  num_h_donors  num_h_acceptors  PubchemFP0  PubchemFP1  \\\n",
       "0     311.422  3.3188           1.0              2.0           1           1   \n",
       "1     299.461  3.2412           1.0              3.0           1           1   \n",
       "2     311.422  3.3188           1.0              2.0           1           1   \n",
       "3     327.877  3.8331           1.0              2.0           1           1   \n",
       "4     372.328  3.9422           1.0              2.0           1           1   \n",
       "\n",
       "   PubchemFP2  PubchemFP3  PubchemFP4  PubchemFP5  ...  PubchemFP871  \\\n",
       "0           1           0           0           0  ...             0   \n",
       "1           1           0           0           0  ...             0   \n",
       "2           1           0           0           0  ...             0   \n",
       "3           1           0           0           0  ...             0   \n",
       "4           1           0           0           0  ...             0   \n",
       "\n",
       "   PubchemFP872  PubchemFP873  PubchemFP874  PubchemFP875  PubchemFP876  \\\n",
       "0             0             0             0             0             0   \n",
       "1             0             0             0             0             0   \n",
       "2             0             0             0             0             0   \n",
       "3             0             0             0             0             0   \n",
       "4             0             0             0             0             0   \n",
       "\n",
       "   PubchemFP877  PubchemFP878  PubchemFP879  PubchemFP880  \n",
       "0             0             0             0             0  \n",
       "1             0             0             0             0  \n",
       "2             0             0             0             0  \n",
       "3             0             0             0             0  \n",
       "4             0             0             0             0  \n",
       "\n",
       "[5 rows x 885 columns]"
      ],
      "text/html": [
       "<div>\n",
       "<style scoped>\n",
       "    .dataframe tbody tr th:only-of-type {\n",
       "        vertical-align: middle;\n",
       "    }\n",
       "\n",
       "    .dataframe tbody tr th {\n",
       "        vertical-align: top;\n",
       "    }\n",
       "\n",
       "    .dataframe thead th {\n",
       "        text-align: right;\n",
       "    }\n",
       "</style>\n",
       "<table border=\"1\" class=\"dataframe\">\n",
       "  <thead>\n",
       "    <tr style=\"text-align: right;\">\n",
       "      <th></th>\n",
       "      <th>mol_weight</th>\n",
       "      <th>log_p</th>\n",
       "      <th>num_h_donors</th>\n",
       "      <th>num_h_acceptors</th>\n",
       "      <th>PubchemFP0</th>\n",
       "      <th>PubchemFP1</th>\n",
       "      <th>PubchemFP2</th>\n",
       "      <th>PubchemFP3</th>\n",
       "      <th>PubchemFP4</th>\n",
       "      <th>PubchemFP5</th>\n",
       "      <th>...</th>\n",
       "      <th>PubchemFP871</th>\n",
       "      <th>PubchemFP872</th>\n",
       "      <th>PubchemFP873</th>\n",
       "      <th>PubchemFP874</th>\n",
       "      <th>PubchemFP875</th>\n",
       "      <th>PubchemFP876</th>\n",
       "      <th>PubchemFP877</th>\n",
       "      <th>PubchemFP878</th>\n",
       "      <th>PubchemFP879</th>\n",
       "      <th>PubchemFP880</th>\n",
       "    </tr>\n",
       "  </thead>\n",
       "  <tbody>\n",
       "    <tr>\n",
       "      <th>0</th>\n",
       "      <td>311.422</td>\n",
       "      <td>3.3188</td>\n",
       "      <td>1.0</td>\n",
       "      <td>2.0</td>\n",
       "      <td>1</td>\n",
       "      <td>1</td>\n",
       "      <td>1</td>\n",
       "      <td>0</td>\n",
       "      <td>0</td>\n",
       "      <td>0</td>\n",
       "      <td>...</td>\n",
       "      <td>0</td>\n",
       "      <td>0</td>\n",
       "      <td>0</td>\n",
       "      <td>0</td>\n",
       "      <td>0</td>\n",
       "      <td>0</td>\n",
       "      <td>0</td>\n",
       "      <td>0</td>\n",
       "      <td>0</td>\n",
       "      <td>0</td>\n",
       "    </tr>\n",
       "    <tr>\n",
       "      <th>1</th>\n",
       "      <td>299.461</td>\n",
       "      <td>3.2412</td>\n",
       "      <td>1.0</td>\n",
       "      <td>3.0</td>\n",
       "      <td>1</td>\n",
       "      <td>1</td>\n",
       "      <td>1</td>\n",
       "      <td>0</td>\n",
       "      <td>0</td>\n",
       "      <td>0</td>\n",
       "      <td>...</td>\n",
       "      <td>0</td>\n",
       "      <td>0</td>\n",
       "      <td>0</td>\n",
       "      <td>0</td>\n",
       "      <td>0</td>\n",
       "      <td>0</td>\n",
       "      <td>0</td>\n",
       "      <td>0</td>\n",
       "      <td>0</td>\n",
       "      <td>0</td>\n",
       "    </tr>\n",
       "    <tr>\n",
       "      <th>2</th>\n",
       "      <td>311.422</td>\n",
       "      <td>3.3188</td>\n",
       "      <td>1.0</td>\n",
       "      <td>2.0</td>\n",
       "      <td>1</td>\n",
       "      <td>1</td>\n",
       "      <td>1</td>\n",
       "      <td>0</td>\n",
       "      <td>0</td>\n",
       "      <td>0</td>\n",
       "      <td>...</td>\n",
       "      <td>0</td>\n",
       "      <td>0</td>\n",
       "      <td>0</td>\n",
       "      <td>0</td>\n",
       "      <td>0</td>\n",
       "      <td>0</td>\n",
       "      <td>0</td>\n",
       "      <td>0</td>\n",
       "      <td>0</td>\n",
       "      <td>0</td>\n",
       "    </tr>\n",
       "    <tr>\n",
       "      <th>3</th>\n",
       "      <td>327.877</td>\n",
       "      <td>3.8331</td>\n",
       "      <td>1.0</td>\n",
       "      <td>2.0</td>\n",
       "      <td>1</td>\n",
       "      <td>1</td>\n",
       "      <td>1</td>\n",
       "      <td>0</td>\n",
       "      <td>0</td>\n",
       "      <td>0</td>\n",
       "      <td>...</td>\n",
       "      <td>0</td>\n",
       "      <td>0</td>\n",
       "      <td>0</td>\n",
       "      <td>0</td>\n",
       "      <td>0</td>\n",
       "      <td>0</td>\n",
       "      <td>0</td>\n",
       "      <td>0</td>\n",
       "      <td>0</td>\n",
       "      <td>0</td>\n",
       "    </tr>\n",
       "    <tr>\n",
       "      <th>4</th>\n",
       "      <td>372.328</td>\n",
       "      <td>3.9422</td>\n",
       "      <td>1.0</td>\n",
       "      <td>2.0</td>\n",
       "      <td>1</td>\n",
       "      <td>1</td>\n",
       "      <td>1</td>\n",
       "      <td>0</td>\n",
       "      <td>0</td>\n",
       "      <td>0</td>\n",
       "      <td>...</td>\n",
       "      <td>0</td>\n",
       "      <td>0</td>\n",
       "      <td>0</td>\n",
       "      <td>0</td>\n",
       "      <td>0</td>\n",
       "      <td>0</td>\n",
       "      <td>0</td>\n",
       "      <td>0</td>\n",
       "      <td>0</td>\n",
       "      <td>0</td>\n",
       "    </tr>\n",
       "  </tbody>\n",
       "</table>\n",
       "<p>5 rows × 885 columns</p>\n",
       "</div>"
      ]
     },
     "execution_count": 64,
     "metadata": {},
     "output_type": "execute_result"
    }
   ],
   "execution_count": 64
  },
  {
   "cell_type": "code",
   "source": [
    "Y.head()"
   ],
   "metadata": {
    "collapsed": false,
    "ExecuteTime": {
     "end_time": "2024-05-22T07:40:09.721599Z",
     "start_time": "2024-05-22T07:40:09.717963Z"
    }
   },
   "id": "f381d50cd0bde5cd",
   "outputs": [
    {
     "data": {
      "text/plain": [
       "      pIC50\n",
       "0  5.301030\n",
       "1  5.568636\n",
       "2  5.744727\n",
       "3  4.958607\n",
       "4  5.000000"
      ],
      "text/html": [
       "<div>\n",
       "<style scoped>\n",
       "    .dataframe tbody tr th:only-of-type {\n",
       "        vertical-align: middle;\n",
       "    }\n",
       "\n",
       "    .dataframe tbody tr th {\n",
       "        vertical-align: top;\n",
       "    }\n",
       "\n",
       "    .dataframe thead th {\n",
       "        text-align: right;\n",
       "    }\n",
       "</style>\n",
       "<table border=\"1\" class=\"dataframe\">\n",
       "  <thead>\n",
       "    <tr style=\"text-align: right;\">\n",
       "      <th></th>\n",
       "      <th>pIC50</th>\n",
       "    </tr>\n",
       "  </thead>\n",
       "  <tbody>\n",
       "    <tr>\n",
       "      <th>0</th>\n",
       "      <td>5.301030</td>\n",
       "    </tr>\n",
       "    <tr>\n",
       "      <th>1</th>\n",
       "      <td>5.568636</td>\n",
       "    </tr>\n",
       "    <tr>\n",
       "      <th>2</th>\n",
       "      <td>5.744727</td>\n",
       "    </tr>\n",
       "    <tr>\n",
       "      <th>3</th>\n",
       "      <td>4.958607</td>\n",
       "    </tr>\n",
       "    <tr>\n",
       "      <th>4</th>\n",
       "      <td>5.000000</td>\n",
       "    </tr>\n",
       "  </tbody>\n",
       "</table>\n",
       "</div>"
      ]
     },
     "execution_count": 65,
     "metadata": {},
     "output_type": "execute_result"
    }
   ],
   "execution_count": 65
  },
  {
   "cell_type": "markdown",
   "source": [
    "## Building Neural Network\n",
    "\n",
    "Train Test Split\n",
    "Splitting the dataset into training and test sets."
   ],
   "metadata": {
    "collapsed": false
   },
   "id": "8ce6c125d4864204"
  },
  {
   "cell_type": "code",
   "source": [
    "# Get 80% of the dataset as the training set. Put the remaining 20% as the test set: x_test and y_test.\n",
    "x_train, x_test, y_train, y_test = train_test_split(X, Y, test_size = 0.2, random_state = 1)\n",
    "\n",
    "# Transpose the dataset\n",
    "x_train = np.array(x_train.T)\n",
    "x_test = np.array(x_test.T)\n",
    "y_train =np.array(y_train.T)\n",
    "y_test = np.array(y_test.T)\n",
    "\n",
    "# Every column is one sample of chemical compound with a dimension of 885\n",
    "# There are in total 2388 training samples\n",
    "print(x_train.shape)\n",
    "print(y_train.shape)"
   ],
   "metadata": {
    "collapsed": false,
    "ExecuteTime": {
     "end_time": "2024-05-22T07:40:09.745445Z",
     "start_time": "2024-05-22T07:40:09.723906Z"
    }
   },
   "id": "a3ae992ccf4d0914",
   "outputs": [
    {
     "name": "stdout",
     "output_type": "stream",
     "text": [
      "(885, 2388)\n",
      "(1, 2388)\n"
     ]
    }
   ],
   "execution_count": 66
  },
  {
   "cell_type": "markdown",
   "source": [
    "## Defines the input size, hidden size and output size"
   ],
   "metadata": {
    "collapsed": false
   },
   "id": "45e1b80e680862a5"
  },
  {
   "cell_type": "code",
   "source": [
    "input_size = 885\n",
    "hidden_size_1 = 400\n",
    "hidden_size_2 = 20\n",
    "output_size = 1"
   ],
   "metadata": {
    "collapsed": false,
    "ExecuteTime": {
     "end_time": "2024-05-22T07:40:09.749739Z",
     "start_time": "2024-05-22T07:40:09.746634Z"
    }
   },
   "id": "59377c5cec5c0511",
   "outputs": [],
   "execution_count": 67
  },
  {
   "cell_type": "markdown",
   "source": [
    "Initialize parameters"
   ],
   "metadata": {
    "collapsed": false
   },
   "id": "d8f5e963c442c9d6"
  },
  {
   "cell_type": "code",
   "source": [
    "def init_param(input_size, hidden_size_1, hidden_size_2, output_size):\n",
    "    W1 = np.random.randn(hidden_size_1, input_size) * 0.01\n",
    "    B1 = np.random.randn(hidden_size_1, 1) * 0.01\n",
    "    W2 = np.random.randn(hidden_size_2, hidden_size_1) * 0.01\n",
    "    B2 = np.random.randn(hidden_size_2, 1) * 0.01\n",
    "    W3 = np.random.randn(output_size, hidden_size_2) * 0.01\n",
    "    B3 = np.random.randn(output_size, 1) * 0.01\n",
    "    return W1, B1, W2, B2, W3, B3"
   ],
   "metadata": {
    "collapsed": false,
    "ExecuteTime": {
     "end_time": "2024-05-22T07:40:09.754015Z",
     "start_time": "2024-05-22T07:40:09.750738Z"
    }
   },
   "id": "b761b6171a917a11",
   "outputs": [],
   "execution_count": 68
  },
  {
   "cell_type": "markdown",
   "source": [
    "Define Relu"
   ],
   "metadata": {
    "collapsed": false
   },
   "id": "db7e017e504c0093"
  },
  {
   "cell_type": "code",
   "source": [
    "def ReLU(Z):\n",
    "    return np.maximum(Z, 0)"
   ],
   "metadata": {
    "collapsed": false,
    "ExecuteTime": {
     "end_time": "2024-05-22T07:40:09.757015Z",
     "start_time": "2024-05-22T07:40:09.754930Z"
    }
   },
   "id": "76efb68fd43898ac",
   "outputs": [],
   "execution_count": 69
  },
  {
   "cell_type": "markdown",
   "source": [
    "## Forward Propagation\n",
    "\n"
   ],
   "metadata": {
    "collapsed": false
   },
   "id": "29e3fceddf483883"
  },
  {
   "cell_type": "code",
   "source": [
    "def forward_prop(X, W1, B1, W2, B2, W3, B3, dropout_rate = 0.2):\n",
    "    Z1 = np.dot(W1, X) + B1\n",
    "    A1 = ReLU(Z1)\n",
    "    A1 = np.random.binomial(1, 1-dropout_rate, A1.shape) / (1-dropout_rate) * A1\n",
    "    \n",
    "    Z2 = np.dot(W2, A1) + B2\n",
    "    A2 = ReLU(Z2)\n",
    "    A2 = np.random.binomial(1, 1-dropout_rate, A2.shape) / (1-dropout_rate) * A2\n",
    "    \n",
    "    Z3 = np.dot(W3, A2) + B3\n",
    "    A3 = Z3 # linear activation\n",
    "    return Z1, A1, Z2, A2, Z3, A3"
   ],
   "metadata": {
    "collapsed": false,
    "ExecuteTime": {
     "end_time": "2024-05-22T07:40:09.760507Z",
     "start_time": "2024-05-22T07:40:09.757874Z"
    }
   },
   "id": "4ea98830538c5aee",
   "outputs": [],
   "execution_count": 70
  },
  {
   "cell_type": "markdown",
   "source": [
    "## Model Dimensions\n",
    "$$\n",
    "W1:400*885 \\\\\n",
    "X:885*2388 \\\\\n",
    "B1:400*1 \\\\\n",
    "Z1:400*2388 \\\\\n",
    "A1:400*2388 \\\\\n",
    "W2:20*400 \\\\ \n",
    "B2: 1*20 \\\\\n",
    "Z2: 20*2388 \\\\ \n",
    "A2: 20*2388 \\\\ \n",
    "W3:1*20 \\\\ \n",
    "B3: 1*20 \\\\\n",
    "Z3: 1*2388 \\\\ \n",
    "A3: 1*2388 \\\\ \n",
    "Y:1*2388\n",
    "$$"
   ],
   "metadata": {
    "collapsed": false
   },
   "id": "d1ab17735a35dea3"
  },
  {
   "cell_type": "markdown",
   "source": [
    "## Forward Propagation:\n",
    "$$\n",
    "Z1 = W1*X + B1\n",
    "\\\\\n",
    "A1 = ReLU(Z1)\n",
    "\\\\\n",
    "A1 = Dropout(A1, rate = p)\n",
    "\\\\\n",
    "Z2 = W2*A1 + B1\n",
    "\\\\\n",
    "A2 = ReLU(Z1)\n",
    "\\\\\n",
    "A2 = Dropout(A2, rate = p)\n",
    "\\\\\n",
    "Z3 = W3*A2 + B2\n",
    "\\\\\n",
    "A3 = Z3\n",
    "$$"
   ],
   "metadata": {
    "collapsed": false
   },
   "id": "b853371c59c48017"
  },
  {
   "cell_type": "markdown",
   "source": [
    "## Loss Function (MSE) and Back Propagation\n",
    "$$\n",
    "Loss(A2, Y) = \\frac{1}{2*2388} \\sum_{i=1}^{2388} (A_2 - Y) ^ 2\n",
    "$$\n",
    "\n",
    "Gradients:\n",
    "\n",
    "$$\n",
    "dZ_3 = A_3 - Y \\\\\n",
    "dW_3 = 1/m dZ_3 * A_2^T \\\\\n",
    "dB_3 = 1/m \\sum_{i=1}^{2388} dZ_3 \\\\\n",
    "dA_2 = W_3^T * dZ_3 \\\\\n",
    "dZ_2 = dA_2 * dReLU(Z_2) \\\\\n",
    "dW_2 = 1/m dZ_2 * A_1^T \\\\\n",
    "dB_2 = 1/m \\sum_{i=1}^{2388} dZ_2 \\\\ \n",
    "dA_1 = W_2^T * dZ_2 \\\\\n",
    "dZ_1 = dA_1 * dReLU(Z_1) \\\\\n",
    "dW_1 = 1/m dZ_1 * X^T \\\\\n",
    "dB_1 = 1/m \\sum_{i=1}^{2388} dZ_1\n",
    "$$"
   ],
   "metadata": {
    "collapsed": false
   },
   "id": "a6ebeeb83a150258"
  },
  {
   "cell_type": "markdown",
   "source": [
    "## Define derivative of ReLU and back prop"
   ],
   "metadata": {
    "collapsed": false
   },
   "id": "e5d6608fd47087dc"
  },
  {
   "cell_type": "code",
   "source": [
    "def deriv_ReLU(Z):\n",
    "    return Z > 0\n",
    "\n",
    "def back_prop(X, Y, Z1, A1, Z2, A2, Z3, A3, W2, W3):\n",
    "    m = X.shape[1]\n",
    "    \n",
    "    # Output layer gradients\n",
    "    dZ3 = A3 - Y\n",
    "    dW3 = (1 / m) * np.dot(dZ3, A2.T)\n",
    "    dB3 = (1 / m) * np.sum(dZ3)\n",
    "    \n",
    "    # Hidden layer 2 gradients\n",
    "    dA2 = np.dot(W3.T, dZ3)\n",
    "    dZ2 = dA2 * deriv_ReLU(Z2)\n",
    "    dW2 = (1 / m) * np.dot(dZ2, A1.T)\n",
    "    dB2 = (1 / m) * np.sum(dZ2)\n",
    "    \n",
    "    # Hidden layer 1 gradients\n",
    "    dA1 = np.dot(W2.T, dZ2)\n",
    "    dZ1 = dA1 * deriv_ReLU(Z1)\n",
    "    dW1 = (1 / m) * np.dot(dZ1, X.T)\n",
    "    dB1 = (1 / m) * np.sum(dZ1)\n",
    "    \n",
    "    return dW1, dB1, dW2, dB2, dW3, dB3"
   ],
   "metadata": {
    "collapsed": false,
    "ExecuteTime": {
     "end_time": "2024-05-22T07:40:09.764945Z",
     "start_time": "2024-05-22T07:40:09.761502Z"
    }
   },
   "id": "f5ee27788e4fc015",
   "outputs": [],
   "execution_count": 71
  },
  {
   "cell_type": "markdown",
   "source": [
    "## Define loss function"
   ],
   "metadata": {
    "collapsed": false
   },
   "id": "ced285d38be61930"
  },
  {
   "cell_type": "code",
   "source": [
    "def compute_loss(Y, A2):\n",
    "    m = Y.shape[1]\n",
    "    loss = (1 / (2 * m)) * np.sum((A2 - Y) ** 2)\n",
    "    return loss"
   ],
   "metadata": {
    "collapsed": false,
    "ExecuteTime": {
     "end_time": "2024-05-22T07:40:09.768684Z",
     "start_time": "2024-05-22T07:40:09.766932Z"
    }
   },
   "id": "d34f1485989a33f7",
   "outputs": [],
   "execution_count": 72
  },
  {
   "cell_type": "markdown",
   "source": [
    "## Define Gradient descent to update parameters"
   ],
   "metadata": {
    "collapsed": false
   },
   "id": "4fa019a945fd1b43"
  },
  {
   "cell_type": "code",
   "source": [
    "def update_parameters(W1, B1, W2, B2, W3, B3, dW1, dB1, dW2, dB2, dW3, dB3, learning_rate):\n",
    "    W1 -= learning_rate * dW1\n",
    "    B1 -= learning_rate * dB1\n",
    "    W2 -= learning_rate * dW2\n",
    "    B2 -= learning_rate * dB2\n",
    "    W3 -= learning_rate * dW3\n",
    "    B3 -= learning_rate * dB3\n",
    "    return W1, B1, W2, B2, W3, B3"
   ],
   "metadata": {
    "collapsed": false,
    "ExecuteTime": {
     "end_time": "2024-05-22T07:40:09.771695Z",
     "start_time": "2024-05-22T07:40:09.769453Z"
    }
   },
   "id": "17ce919234f1fab0",
   "outputs": [],
   "execution_count": 73
  },
  {
   "cell_type": "markdown",
   "source": [
    "## Define Training loop"
   ],
   "metadata": {
    "collapsed": false
   },
   "id": "740fdc9c996dd5ad"
  },
  {
   "cell_type": "code",
   "source": [
    "def train(X, Y, learning_rate=0.00001, epochs=1000):\n",
    "    W1, B1, W2, B2, W3, B3 = init_param(input_size = 885, hidden_size_1 = 400, hidden_size_2 = 20, output_size = 1)\n",
    "    loss_history = []\n",
    "    \n",
    "    for epoch in range(epochs):\n",
    "        Z1, A1, Z2, A2, Z3, A3 = forward_prop(X, W1, B1, W2, B2, W3, B3)\n",
    "        loss = compute_loss(Y, A3)\n",
    "        loss_history.append(loss)\n",
    "        \n",
    "        \n",
    "        dW1, dB1, dW2, dB2, dW3, dB3 = back_prop(X, Y, Z1, A1, Z2, A2, Z3, A3, W2, W3)\n",
    "        W1, B1, W2, B2, W3, B3 = update_parameters(W1, B1, W2, B2, W3, B3, dW1, dB1, dW2, dB2, dW3, dB3, learning_rate)\n",
    "        \n",
    "        if epoch % 100 == 0:\n",
    "            print(f'Epoch {epoch}, Loss: {loss}')\n",
    "    \n",
    "    return W1, B1, W2, B2, W3, B3, loss_history"
   ],
   "metadata": {
    "collapsed": false,
    "ExecuteTime": {
     "end_time": "2024-05-22T07:40:09.775920Z",
     "start_time": "2024-05-22T07:40:09.772564Z"
    }
   },
   "id": "4611f0485c021742",
   "outputs": [],
   "execution_count": 74
  },
  {
   "cell_type": "markdown",
   "source": [
    "## Starts training"
   ],
   "metadata": {
    "collapsed": false
   },
   "id": "31b6589a0df60eff"
  },
  {
   "cell_type": "code",
   "source": "trained_W1, trained_B1, trained_W2, trained_B2, trained_W3, trained_B3, loss_history = train(x_train, y_train)",
   "metadata": {
    "collapsed": false,
    "ExecuteTime": {
     "end_time": "2024-05-22T07:41:47.125492Z",
     "start_time": "2024-05-22T07:40:09.776809Z"
    }
   },
   "id": "90000743843cc74f",
   "outputs": [
    {
     "name": "stdout",
     "output_type": "stream",
     "text": [
      "Epoch 0, Loss: 15.749781672555107\n",
      "Epoch 100, Loss: 15.516972160743888\n",
      "Epoch 200, Loss: 15.120228409339655\n",
      "Epoch 300, Loss: 14.31544139737773\n",
      "Epoch 400, Loss: 12.632550533582624\n",
      "Epoch 500, Loss: 9.32194769276016\n",
      "Epoch 600, Loss: 5.092996693733863\n",
      "Epoch 700, Loss: 2.9699345970907993\n",
      "Epoch 800, Loss: 2.883841191174643\n",
      "Epoch 900, Loss: 2.697174078803353\n"
     ]
    }
   ],
   "execution_count": 75
  },
  {
   "cell_type": "markdown",
   "source": [
    "## Visualize the training loss"
   ],
   "metadata": {
    "collapsed": false
   },
   "id": "54cf02eb1b73f9fb"
  },
  {
   "cell_type": "code",
   "source": [
    "plt.xlim(0, 1000)\n",
    "plt.plot(loss_history)"
   ],
   "metadata": {
    "collapsed": false,
    "ExecuteTime": {
     "end_time": "2024-05-22T07:41:47.356234Z",
     "start_time": "2024-05-22T07:41:47.131227Z"
    }
   },
   "id": "e3f1b9ec05f74b9",
   "outputs": [
    {
     "data": {
      "text/plain": [
       "[<matplotlib.lines.Line2D at 0x3321bae70>]"
      ]
     },
     "execution_count": 76,
     "metadata": {},
     "output_type": "execute_result"
    },
    {
     "data": {
      "text/plain": [
       "<Figure size 640x480 with 1 Axes>"
      ],
      "image/png": "[encoded data removed]"
     },
     "metadata": {},
     "output_type": "display_data"
    }
   ],
   "execution_count": 76
  },
  {
   "cell_type": "markdown",
   "source": [
    "## With 1000 epoch of training, the loss on the training set is calculated\n",
    "\n",
    "Test the model on the test set"
   ],
   "metadata": {
    "collapsed": false
   },
   "id": "56e7ace2e39d5ba3"
  },
  {
   "cell_type": "code",
   "source": [
    "_, _, _, _, _, predicted_A3 = forward_prop(x_test, trained_W1, trained_B1, trained_W2, trained_B2, trained_W3, trained_B3)\n",
    "print(f\"Prediction : {predicted_A3[0][:50]}\")\n",
    "print(f\"Actual: {y_test[0][:50]}\")\n",
    "loss = compute_loss(y_test, predicted_A3)\n",
    "print(f\"loss : {loss}\")"
   ],
   "metadata": {
    "collapsed": false,
    "ExecuteTime": {
     "end_time": "2024-05-22T07:41:47.391702Z",
     "start_time": "2024-05-22T07:41:47.360071Z"
    }
   },
   "id": "2f634b35b3cc5ffe",
   "outputs": [
    {
     "name": "stdout",
     "output_type": "stream",
     "text": [
      "Prediction : [ 0.89594327  5.58623029  3.59209531  4.31951548  5.69051882  2.76035039\n",
      "  2.5353128   6.0048081   2.43337229  6.13105806 10.73172703  7.77346572\n",
      "  7.9278016   3.26825889  8.88118682  8.22331554  0.9361306   3.87243344\n",
      "  4.895225    6.06005474  5.67628086  5.69287038  2.91398574  2.12189286\n",
      "  6.22866145  4.26923474  6.20671574  3.28576474  6.3770232   5.22762875\n",
      "  5.38104897  5.4180146   2.33585498  5.92159131  4.2799627   3.60458977\n",
      "  3.8518362   8.22229575  5.65697199  4.11229039  5.02056277  3.77990936\n",
      "  1.92850869  6.97051274  4.15374138  5.87813939  1.17617657  8.17494015\n",
      "  5.54148848  3.85221471]\n",
      "Actual: [6.32239305 5.         4.82073554 6.20065945 5.48148606 5.04575749\n",
      " 4.70114692 4.72746222 5.08249449 8.52287875 5.52287875 4.61618463\n",
      " 5.07572071 4.92481815 8.55284197 4.39794001 4.82102305 4.00674017\n",
      " 5.95860731 5.46852108 5.1948391  4.78914663 5.         4.09151498\n",
      " 4.85387196 4.2756422  4.69897    7.25289907 6.09691001 4.66134433\n",
      " 4.69897    5.         4.73873713 4.73873713 7.49485002 5.\n",
      " 4.60205999 7.26760624 6.86012091 5.05256628 8.79588002 5.14752001\n",
      " 3.95467702 6.07572071 3.30103    4.6476245  4.82419837 4.89962945\n",
      " 4.73165609 6.65757732]\n",
      "loss : 2.647958740984562\n"
     ]
    }
   ],
   "execution_count": 77
  },
  {
   "cell_type": "markdown",
   "source": [
    "## Results\n",
    "\n",
    "With 597 samples in the test set, the total loss is around 1.2."
   ],
   "metadata": {
    "collapsed": false
   },
   "id": "2a6a7797351a5b98"
  },
  {
   "metadata": {},
   "cell_type": "markdown",
   "source": "## Plot the actual value vs the predicted value",
   "id": "7303ede268158be5"
  },
  {
   "metadata": {
    "ExecuteTime": {
     "end_time": "2024-05-22T07:41:47.816762Z",
     "start_time": "2024-05-22T07:41:47.440877Z"
    }
   },
   "cell_type": "code",
   "source": [
    "plt.figure(figsize=(10, 6))\n",
    "plt.scatter(y_test, predicted_A3, alpha=0.5)\n",
    "plt.xlabel('Actual pIC50 Values')\n",
    "plt.ylabel('Predicted pIC50 Values')\n",
    "plt.title('Actual vs Predicted pIC50 Values')\n",
    "plt.plot([min(y_test), max(y_test)], [min(y_test), max(y_test)], color='red')  # Line of equality\n",
    "plt.show()"
   ],
   "id": "a86310e1cb2f8515",
   "outputs": [
    {
     "data": {
      "text/plain": [
       "<Figure size 1000x600 with 1 Axes>"
      ],
      "image/png": "[encoded data removed]"
     },
     "metadata": {},
     "output_type": "display_data"
    }
   ],
   "execution_count": 78
  }
 ],
 "metadata": {
  "kernelspec": {
   "display_name": "Python 3",
   "language": "python",
   "name": "python3"
  },
  "language_info": {
   "codemirror_mode": {
    "name": "ipython",
    "version": 2
   },
   "file_extension": ".py",
   "mimetype": "text/x-python",
   "name": "python",
   "nbconvert_exporter": "python",
   "pygments_lexer": "ipython2",
   "version": "2.7.6"
  }
 },
 "nbformat": 4,
 "nbformat_minor": 5
}

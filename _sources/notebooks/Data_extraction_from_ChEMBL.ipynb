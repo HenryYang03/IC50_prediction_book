{
 "cells": [
  {
   "cell_type": "markdown",
   "source": [
    "# IC50 prediction (Extract dataset)\n",
    "\n",
    "Load dataset from ChEMBL Databse, which contains bioactivity data for more than 2 million compounds. Data spans over 15598 targets."
   ],
   "metadata": {
    "collapsed": false
   },
   "id": "fd2ae9914a5439b2"
  },
  {
   "cell_type": "code",
   "outputs": [],
   "source": [
    "import pandas as pd\n",
    "from chembl_webresource_client.new_client import new_client"
   ],
   "metadata": {
    "collapsed": false,
    "ExecuteTime": {
     "end_time": "2024-05-17T19:55:11.152833Z",
     "start_time": "2024-05-17T19:55:11.150649Z"
    }
   },
   "id": "73150be44873047c",
   "execution_count": 11
  },
  {
   "cell_type": "markdown",
   "source": [
    "## Search for All Targets (Alzheimer Disease)\n",
    "\n",
    "Found total of 6 targets."
   ],
   "metadata": {
    "collapsed": false
   },
   "id": "56b05031d534db3d"
  },
  {
   "cell_type": "code",
   "outputs": [
    {
     "data": {
      "text/plain": "                                    cross_references           organism  \\\n0                                                 []       Homo sapiens   \n1  [{'xref_id': 'Q92542', 'xref_name': None, 'xre...       Homo sapiens   \n2                                                 []       Homo sapiens   \n3                                                 []  Rattus norvegicus   \n4                                                 []       Mus musculus   \n5  [{'xref_id': 'P05067', 'xref_name': None, 'xre...       Homo sapiens   \n\n                                   pref_name  score  species_group_flag  \\\n0  Nucleosome-remodeling factor subunit BPTF   13.0               False   \n1                                  Nicastrin   11.0               False   \n2                            Gamma-secretase   11.0               False   \n3                    Amyloid-beta A4 protein    9.0               False   \n4                    Amyloid-beta A4 protein    8.0               False   \n5                    Amyloid-beta A4 protein    7.0               False   \n\n  target_chembl_id                                  target_components  \\\n0    CHEMBL3085621  [{'accession': 'Q12830', 'component_descriptio...   \n1       CHEMBL3418  [{'accession': 'Q92542', 'component_descriptio...   \n2    CHEMBL2094135  [{'accession': 'Q96BI3', 'component_descriptio...   \n3    CHEMBL3638365  [{'accession': 'P08592', 'component_descriptio...   \n4    CHEMBL4523942  [{'accession': 'P12023', 'component_descriptio...   \n5       CHEMBL2487  [{'accession': 'P05067', 'component_descriptio...   \n\n       target_type  tax_id  \n0   SINGLE PROTEIN    9606  \n1   SINGLE PROTEIN    9606  \n2  PROTEIN COMPLEX    9606  \n3   SINGLE PROTEIN   10116  \n4   SINGLE PROTEIN   10090  \n5   SINGLE PROTEIN    9606  ",
      "text/html": "<div>\n<style scoped>\n    .dataframe tbody tr th:only-of-type {\n        vertical-align: middle;\n    }\n\n    .dataframe tbody tr th {\n        vertical-align: top;\n    }\n\n    .dataframe thead th {\n        text-align: right;\n    }\n</style>\n<table border=\"1\" class=\"dataframe\">\n  <thead>\n    <tr style=\"text-align: right;\">\n      <th></th>\n      <th>cross_references</th>\n      <th>organism</th>\n      <th>pref_name</th>\n      <th>score</th>\n      <th>species_group_flag</th>\n      <th>target_chembl_id</th>\n      <th>target_components</th>\n      <th>target_type</th>\n      <th>tax_id</th>\n    </tr>\n  </thead>\n  <tbody>\n    <tr>\n      <th>0</th>\n      <td>[]</td>\n      <td>Homo sapiens</td>\n      <td>Nucleosome-remodeling factor subunit BPTF</td>\n      <td>13.0</td>\n      <td>False</td>\n      <td>CHEMBL3085621</td>\n      <td>[{'accession': 'Q12830', 'component_descriptio...</td>\n      <td>SINGLE PROTEIN</td>\n      <td>9606</td>\n    </tr>\n    <tr>\n      <th>1</th>\n      <td>[{'xref_id': 'Q92542', 'xref_name': None, 'xre...</td>\n      <td>Homo sapiens</td>\n      <td>Nicastrin</td>\n      <td>11.0</td>\n      <td>False</td>\n      <td>CHEMBL3418</td>\n      <td>[{'accession': 'Q92542', 'component_descriptio...</td>\n      <td>SINGLE PROTEIN</td>\n      <td>9606</td>\n    </tr>\n    <tr>\n      <th>2</th>\n      <td>[]</td>\n      <td>Homo sapiens</td>\n      <td>Gamma-secretase</td>\n      <td>11.0</td>\n      <td>False</td>\n      <td>CHEMBL2094135</td>\n      <td>[{'accession': 'Q96BI3', 'component_descriptio...</td>\n      <td>PROTEIN COMPLEX</td>\n      <td>9606</td>\n    </tr>\n    <tr>\n      <th>3</th>\n      <td>[]</td>\n      <td>Rattus norvegicus</td>\n      <td>Amyloid-beta A4 protein</td>\n      <td>9.0</td>\n      <td>False</td>\n      <td>CHEMBL3638365</td>\n      <td>[{'accession': 'P08592', 'component_descriptio...</td>\n      <td>SINGLE PROTEIN</td>\n      <td>10116</td>\n    </tr>\n    <tr>\n      <th>4</th>\n      <td>[]</td>\n      <td>Mus musculus</td>\n      <td>Amyloid-beta A4 protein</td>\n      <td>8.0</td>\n      <td>False</td>\n      <td>CHEMBL4523942</td>\n      <td>[{'accession': 'P12023', 'component_descriptio...</td>\n      <td>SINGLE PROTEIN</td>\n      <td>10090</td>\n    </tr>\n    <tr>\n      <th>5</th>\n      <td>[{'xref_id': 'P05067', 'xref_name': None, 'xre...</td>\n      <td>Homo sapiens</td>\n      <td>Amyloid-beta A4 protein</td>\n      <td>7.0</td>\n      <td>False</td>\n      <td>CHEMBL2487</td>\n      <td>[{'accession': 'P05067', 'component_descriptio...</td>\n      <td>SINGLE PROTEIN</td>\n      <td>9606</td>\n    </tr>\n  </tbody>\n</table>\n</div>"
     },
     "execution_count": 12,
     "metadata": {},
     "output_type": "execute_result"
    }
   ],
   "source": [
    "target_result = new_client.target.search('Alzheimer')\n",
    "targets = pd.DataFrame(target_result)\n",
    "targets"
   ],
   "metadata": {
    "collapsed": false,
    "ExecuteTime": {
     "end_time": "2024-05-17T19:55:11.181390Z",
     "start_time": "2024-05-17T19:55:11.155269Z"
    }
   },
   "id": "bbb21df6eeace22f",
   "execution_count": 12
  },
  {
   "cell_type": "markdown",
   "source": [
    "Selects the Amyloid-beta A4 protein as the target (CHEMBL2487) and retrieve bioactivity data from this selected target protein that use IC50 values. We are interested in the standard value column, which is the potency of the drug."
   ],
   "metadata": {
    "collapsed": false
   },
   "id": "4b53b8b040e17342"
  },
  {
   "cell_type": "code",
   "outputs": [
    {
     "data": {
      "text/plain": "  action_type activity_comment  activity_id activity_properties  \\\n0        None             None       357577                  []   \n1        None             None       357580                  []   \n2        None             None       358965                  []   \n3        None             None       368887                  []   \n4        None             None       375954                  []   \n\n  assay_chembl_id                                  assay_description  \\\n0    CHEMBL678443  Inhibition of A-beta-42 production by inhibiti...   \n1    CHEMBL678443  Inhibition of A-beta-42 production by inhibiti...   \n2    CHEMBL678443  Inhibition of A-beta-42 production by inhibiti...   \n3    CHEMBL678443  Inhibition of A-beta-42 production by inhibiti...   \n4    CHEMBL678443  Inhibition of A-beta-42 production by inhibiti...   \n\n  assay_type assay_variant_accession assay_variant_mutation bao_endpoint  ...  \\\n0          B                    None                   None  BAO_0000190  ...   \n1          B                    None                   None  BAO_0000190  ...   \n2          B                    None                   None  BAO_0000190  ...   \n3          B                    None                   None  BAO_0000190  ...   \n4          B                    None                   None  BAO_0000190  ...   \n\n  target_organism         target_pref_name target_tax_id text_value  toid  \\\n0    Homo sapiens  Amyloid-beta A4 protein          9606       None  None   \n1    Homo sapiens  Amyloid-beta A4 protein          9606       None  None   \n2    Homo sapiens  Amyloid-beta A4 protein          9606       None  None   \n3    Homo sapiens  Amyloid-beta A4 protein          9606       None  None   \n4    Homo sapiens  Amyloid-beta A4 protein          9606       None  None   \n\n   type units    uo_units upper_value value  \n0  IC50    uM  UO_0000065        None   5.0  \n1  IC50    uM  UO_0000065        None   2.7  \n2  IC50    uM  UO_0000065        None   1.8  \n3  IC50    uM  UO_0000065        None  11.0  \n4  IC50    uM  UO_0000065        None  10.0  \n\n[5 rows x 46 columns]",
      "text/html": "<div>\n<style scoped>\n    .dataframe tbody tr th:only-of-type {\n        vertical-align: middle;\n    }\n\n    .dataframe tbody tr th {\n        vertical-align: top;\n    }\n\n    .dataframe thead th {\n        text-align: right;\n    }\n</style>\n<table border=\"1\" class=\"dataframe\">\n  <thead>\n    <tr style=\"text-align: right;\">\n      <th></th>\n      <th>action_type</th>\n      <th>activity_comment</th>\n      <th>activity_id</th>\n      <th>activity_properties</th>\n      <th>assay_chembl_id</th>\n      <th>assay_description</th>\n      <th>assay_type</th>\n      <th>assay_variant_accession</th>\n      <th>assay_variant_mutation</th>\n      <th>bao_endpoint</th>\n      <th>...</th>\n      <th>target_organism</th>\n      <th>target_pref_name</th>\n      <th>target_tax_id</th>\n      <th>text_value</th>\n      <th>toid</th>\n      <th>type</th>\n      <th>units</th>\n      <th>uo_units</th>\n      <th>upper_value</th>\n      <th>value</th>\n    </tr>\n  </thead>\n  <tbody>\n    <tr>\n      <th>0</th>\n      <td>None</td>\n      <td>None</td>\n      <td>357577</td>\n      <td>[]</td>\n      <td>CHEMBL678443</td>\n      <td>Inhibition of A-beta-42 production by inhibiti...</td>\n      <td>B</td>\n      <td>None</td>\n      <td>None</td>\n      <td>BAO_0000190</td>\n      <td>...</td>\n      <td>Homo sapiens</td>\n      <td>Amyloid-beta A4 protein</td>\n      <td>9606</td>\n      <td>None</td>\n      <td>None</td>\n      <td>IC50</td>\n      <td>uM</td>\n      <td>UO_0000065</td>\n      <td>None</td>\n      <td>5.0</td>\n    </tr>\n    <tr>\n      <th>1</th>\n      <td>None</td>\n      <td>None</td>\n      <td>357580</td>\n      <td>[]</td>\n      <td>CHEMBL678443</td>\n      <td>Inhibition of A-beta-42 production by inhibiti...</td>\n      <td>B</td>\n      <td>None</td>\n      <td>None</td>\n      <td>BAO_0000190</td>\n      <td>...</td>\n      <td>Homo sapiens</td>\n      <td>Amyloid-beta A4 protein</td>\n      <td>9606</td>\n      <td>None</td>\n      <td>None</td>\n      <td>IC50</td>\n      <td>uM</td>\n      <td>UO_0000065</td>\n      <td>None</td>\n      <td>2.7</td>\n    </tr>\n    <tr>\n      <th>2</th>\n      <td>None</td>\n      <td>None</td>\n      <td>358965</td>\n      <td>[]</td>\n      <td>CHEMBL678443</td>\n      <td>Inhibition of A-beta-42 production by inhibiti...</td>\n      <td>B</td>\n      <td>None</td>\n      <td>None</td>\n      <td>BAO_0000190</td>\n      <td>...</td>\n      <td>Homo sapiens</td>\n      <td>Amyloid-beta A4 protein</td>\n      <td>9606</td>\n      <td>None</td>\n      <td>None</td>\n      <td>IC50</td>\n      <td>uM</td>\n      <td>UO_0000065</td>\n      <td>None</td>\n      <td>1.8</td>\n    </tr>\n    <tr>\n      <th>3</th>\n      <td>None</td>\n      <td>None</td>\n      <td>368887</td>\n      <td>[]</td>\n      <td>CHEMBL678443</td>\n      <td>Inhibition of A-beta-42 production by inhibiti...</td>\n      <td>B</td>\n      <td>None</td>\n      <td>None</td>\n      <td>BAO_0000190</td>\n      <td>...</td>\n      <td>Homo sapiens</td>\n      <td>Amyloid-beta A4 protein</td>\n      <td>9606</td>\n      <td>None</td>\n      <td>None</td>\n      <td>IC50</td>\n      <td>uM</td>\n      <td>UO_0000065</td>\n      <td>None</td>\n      <td>11.0</td>\n    </tr>\n    <tr>\n      <th>4</th>\n      <td>None</td>\n      <td>None</td>\n      <td>375954</td>\n      <td>[]</td>\n      <td>CHEMBL678443</td>\n      <td>Inhibition of A-beta-42 production by inhibiti...</td>\n      <td>B</td>\n      <td>None</td>\n      <td>None</td>\n      <td>BAO_0000190</td>\n      <td>...</td>\n      <td>Homo sapiens</td>\n      <td>Amyloid-beta A4 protein</td>\n      <td>9606</td>\n      <td>None</td>\n      <td>None</td>\n      <td>IC50</td>\n      <td>uM</td>\n      <td>UO_0000065</td>\n      <td>None</td>\n      <td>10.0</td>\n    </tr>\n  </tbody>\n</table>\n<p>5 rows × 46 columns</p>\n</div>"
     },
     "execution_count": 13,
     "metadata": {},
     "output_type": "execute_result"
    }
   ],
   "source": [
    "selected = targets.target_chembl_id[5]\n",
    "bio_activity_data = new_client.activity.filter(target_chembl_id=selected).filter(standard_type = 'IC50')\n",
    "df = pd.DataFrame(bio_activity_data)\n",
    "df.head()"
   ],
   "metadata": {
    "collapsed": false,
    "ExecuteTime": {
     "end_time": "2024-05-17T19:55:11.300224Z",
     "start_time": "2024-05-17T19:55:11.182549Z"
    }
   },
   "id": "f26205fbb7990091",
   "execution_count": 13
  },
  {
   "cell_type": "markdown",
   "source": [
    "Drop the missing data rows (missing standard value) and turn the dataframe into csv file."
   ],
   "metadata": {
    "collapsed": false
   },
   "id": "33689530418bc7f4"
  },
  {
   "cell_type": "code",
   "outputs": [],
   "source": [
    "df = df[df.standard_value.notna()]\n",
    "df.to_csv('bioactivity_data.csv', index = False)"
   ],
   "metadata": {
    "collapsed": false,
    "ExecuteTime": {
     "end_time": "2024-05-17T19:55:11.327485Z",
     "start_time": "2024-05-17T19:55:11.301322Z"
    }
   },
   "id": "e771706e4cbd6a5d",
   "execution_count": 14
  },
  {
   "cell_type": "markdown",
   "source": [
    "## Data pre-process\n",
    "\n",
    "Select the 3 columns that we want and add another column for bioactivity level."
   ],
   "metadata": {
    "collapsed": false
   },
   "id": "c4982e2e985e4e9c"
  },
  {
   "cell_type": "code",
   "outputs": [
    {
     "data": {
      "text/plain": "  molecule_chembl_id                                   canonical_smiles  \\\n0       CHEMBL311039          CC12CCC(C1)C(C)(C)C2NS(=O)(=O)c1ccc(F)cc1   \n1       CHEMBL450926    CC12CC[C@@H](C1)C(C)(C)[C@@H]2NS(=O)(=O)c1cccs1   \n2       CHEMBL310242  CC12CC[C@@H](C1)C(C)(C)[C@@H]2NS(=O)(=O)c1ccc(...   \n3        CHEMBL74874  CC12CC[C@@H](C1)C(C)(C)[C@@H]2NS(=O)(=O)c1ccc(...   \n4        CHEMBL75183  CC12CC[C@@H](C1)C(C)(C)[C@@H]2NS(=O)(=O)c1ccc(...   \n\n  standard_value  \n0         5000.0  \n1         2700.0  \n2         1800.0  \n3        11000.0  \n4        10000.0  ",
      "text/html": "<div>\n<style scoped>\n    .dataframe tbody tr th:only-of-type {\n        vertical-align: middle;\n    }\n\n    .dataframe tbody tr th {\n        vertical-align: top;\n    }\n\n    .dataframe thead th {\n        text-align: right;\n    }\n</style>\n<table border=\"1\" class=\"dataframe\">\n  <thead>\n    <tr style=\"text-align: right;\">\n      <th></th>\n      <th>molecule_chembl_id</th>\n      <th>canonical_smiles</th>\n      <th>standard_value</th>\n    </tr>\n  </thead>\n  <tbody>\n    <tr>\n      <th>0</th>\n      <td>CHEMBL311039</td>\n      <td>CC12CCC(C1)C(C)(C)C2NS(=O)(=O)c1ccc(F)cc1</td>\n      <td>5000.0</td>\n    </tr>\n    <tr>\n      <th>1</th>\n      <td>CHEMBL450926</td>\n      <td>CC12CC[C@@H](C1)C(C)(C)[C@@H]2NS(=O)(=O)c1cccs1</td>\n      <td>2700.0</td>\n    </tr>\n    <tr>\n      <th>2</th>\n      <td>CHEMBL310242</td>\n      <td>CC12CC[C@@H](C1)C(C)(C)[C@@H]2NS(=O)(=O)c1ccc(...</td>\n      <td>1800.0</td>\n    </tr>\n    <tr>\n      <th>3</th>\n      <td>CHEMBL74874</td>\n      <td>CC12CC[C@@H](C1)C(C)(C)[C@@H]2NS(=O)(=O)c1ccc(...</td>\n      <td>11000.0</td>\n    </tr>\n    <tr>\n      <th>4</th>\n      <td>CHEMBL75183</td>\n      <td>CC12CC[C@@H](C1)C(C)(C)[C@@H]2NS(=O)(=O)c1ccc(...</td>\n      <td>10000.0</td>\n    </tr>\n  </tbody>\n</table>\n</div>"
     },
     "execution_count": 15,
     "metadata": {},
     "output_type": "execute_result"
    }
   ],
   "source": [
    "df1 = df[['molecule_chembl_id', 'canonical_smiles', 'standard_value']]\n",
    "df1.head()"
   ],
   "metadata": {
    "collapsed": false,
    "ExecuteTime": {
     "end_time": "2024-05-17T19:55:11.332912Z",
     "start_time": "2024-05-17T19:55:11.328732Z"
    }
   },
   "id": "798259cd18096b90",
   "execution_count": 15
  },
  {
   "cell_type": "code",
   "outputs": [],
   "source": [],
   "metadata": {
    "collapsed": false,
    "ExecuteTime": {
     "end_time": "2024-05-17T19:55:11.335326Z",
     "start_time": "2024-05-17T19:55:11.333883Z"
    }
   },
   "id": "a3a8c55848626cb7",
   "execution_count": 15
  }
 ],
 "metadata": {
  "kernelspec": {
   "display_name": "Python 3",
   "language": "python",
   "name": "python3"
  },
  "language_info": {
   "codemirror_mode": {
    "name": "ipython",
    "version": 2
   },
   "file_extension": ".py",
   "mimetype": "text/x-python",
   "name": "python",
   "nbconvert_exporter": "python",
   "pygments_lexer": "ipython2",
   "version": "2.7.6"
  }
 },
 "nbformat": 4,
 "nbformat_minor": 5
}

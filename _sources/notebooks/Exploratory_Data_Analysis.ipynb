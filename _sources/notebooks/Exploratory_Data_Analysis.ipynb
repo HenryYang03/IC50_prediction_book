{
 "cells": [
  {
   "cell_type": "markdown",
   "source": [
    "# Exploratory Data Analysis\n",
    "\n",
    "In this section, we add descriptors features to the dataset using the rdkit and perform some exploratory data analysis\n",
    "\n",
    "Import the needed library for calculating descriptors:"
   ],
   "metadata": {
    "collapsed": false
   },
   "id": "87b988b4b32a602a"
  },
  {
   "cell_type": "code",
   "execution_count": 63,
   "id": "initial_id",
   "metadata": {
    "collapsed": true,
    "ExecuteTime": {
     "end_time": "2024-05-18T11:07:09.795212Z",
     "start_time": "2024-05-18T11:07:09.784244Z"
    }
   },
   "outputs": [],
   "source": [
    "import numpy as np\n",
    "import pandas as pd\n",
    "from rdkit import Chem\n",
    "from rdkit.Chem import Descriptors, Lipinski\n",
    "\n",
    "# import the dataset from previous notebook:\n",
    "df = pd.read_csv('bioactivity_data.csv')"
   ]
  },
  {
   "cell_type": "markdown",
   "source": [
    "## Lipinski Descriptors\n",
    "\n",
    "Lipinski descriptors, also known as Lipinski's Rule of Five, are a set of empirical rules to evaluate the \n",
    "druglikeness of a compound base on Absorption, Distribution, Metabolism and Excretion. They predict whether a chemical compound with a certain pharmacological or biological activity has properties that would make it a likely orally active drug in humans. These rules are:\n",
    "\n",
    "No more than 5 hydrogen bond donors (the sum of OHs and NHs).\n",
    "No more than 10 hydrogen bond acceptors (the sum of Os and Ns).\n",
    "A molecular weight less than 500 daltons.\n",
    "A partition coefficient (LogP) not greater than 5.\n"
   ],
   "metadata": {
    "collapsed": false
   },
   "id": "150882ba2209c59a"
  },
  {
   "cell_type": "markdown",
   "source": [
    "## Calculate descriptors"
   ],
   "metadata": {
    "collapsed": false
   },
   "id": "2532b7467e9fd4b6"
  },
  {
   "cell_type": "code",
   "outputs": [],
   "source": [
    "def calculate_lipinski(smiles):\n",
    "    mol = Chem.MolFromSmiles(smiles)\n",
    "    mol_weight = Descriptors.MolWt(mol)\n",
    "    log_p = Descriptors.MolLogP(mol)\n",
    "    num_h_donors = Descriptors.NumHDonors(mol)\n",
    "    num_h_acceptors = Descriptors.NumHAcceptors(mol)\n",
    "    return mol_weight, log_p, num_h_donors, num_h_acceptors"
   ],
   "metadata": {
    "collapsed": false,
    "ExecuteTime": {
     "end_time": "2024-05-18T11:07:09.798775Z",
     "start_time": "2024-05-18T11:07:09.796484Z"
    }
   },
   "id": "83a8ae75d2fe5cbd",
   "execution_count": 64
  },
  {
   "cell_type": "markdown",
   "source": [
    "Add those lpinski descriptors as new features into the dataset"
   ],
   "metadata": {
    "collapsed": false
   },
   "id": "3a413c07e6ceb2ae"
  },
  {
   "cell_type": "code",
   "outputs": [
    {
     "data": {
      "text/plain": "  molecule_chembl_id                                   canonical_smiles  \\\n0       CHEMBL311039          CC12CCC(C1)C(C)(C)C2NS(=O)(=O)c1ccc(F)cc1   \n1       CHEMBL450926    CC12CC[C@@H](C1)C(C)(C)[C@@H]2NS(=O)(=O)c1cccs1   \n2       CHEMBL310242  CC12CC[C@@H](C1)C(C)(C)[C@@H]2NS(=O)(=O)c1ccc(...   \n3        CHEMBL74874  CC12CC[C@@H](C1)C(C)(C)[C@@H]2NS(=O)(=O)c1ccc(...   \n4        CHEMBL75183  CC12CC[C@@H](C1)C(C)(C)[C@@H]2NS(=O)(=O)c1ccc(...   \n5          CHEMBL563                   CC(C(=O)O)c1ccc(-c2ccccc2)c(F)c1   \n6       CHEMBL196279           CC(C(=O)O)c1ccc(-c2ccc(Cl)c(Cl)c2)c(F)c1   \n7       CHEMBL195970           CC(C(=O)O)c1ccc(-c2cc(Cl)cc(Cl)c2)c(F)c1   \n8       CHEMBL195970           CC(C(=O)O)c1ccc(-c2cc(Cl)cc(Cl)c2)c(F)c1   \n9       CHEMBL264006         CC(C(=O)O)c1ccc(-c2ccc(C3CCCCC3)cc2)c(F)c1   \n\n   standard_value bioactivity_level  mol_weight   log_p  num_h_donors  \\\n0          5000.0      intermediate     311.422  3.3188           1.0   \n1          2700.0      intermediate     299.461  3.2412           1.0   \n2          1800.0      intermediate     311.422  3.3188           1.0   \n3         11000.0          inactive     327.877  3.8331           1.0   \n4         10000.0          inactive     372.328  3.9422           1.0   \n5        305000.0          inactive     244.265  3.6808           1.0   \n6         75000.0          inactive     313.155  4.9876           1.0   \n7         77000.0          inactive     313.155  4.9876           1.0   \n8         94000.0          inactive     313.155  4.9876           1.0   \n9         21000.0          inactive     326.411  5.7285           1.0   \n\n   num_h_acceptors  \n0              2.0  \n1              3.0  \n2              2.0  \n3              2.0  \n4              2.0  \n5              1.0  \n6              1.0  \n7              1.0  \n8              1.0  \n9              1.0  ",
      "text/html": "<div>\n<style scoped>\n    .dataframe tbody tr th:only-of-type {\n        vertical-align: middle;\n    }\n\n    .dataframe tbody tr th {\n        vertical-align: top;\n    }\n\n    .dataframe thead th {\n        text-align: right;\n    }\n</style>\n<table border=\"1\" class=\"dataframe\">\n  <thead>\n    <tr style=\"text-align: right;\">\n      <th></th>\n      <th>molecule_chembl_id</th>\n      <th>canonical_smiles</th>\n      <th>standard_value</th>\n      <th>bioactivity_level</th>\n      <th>mol_weight</th>\n      <th>log_p</th>\n      <th>num_h_donors</th>\n      <th>num_h_acceptors</th>\n    </tr>\n  </thead>\n  <tbody>\n    <tr>\n      <th>0</th>\n      <td>CHEMBL311039</td>\n      <td>CC12CCC(C1)C(C)(C)C2NS(=O)(=O)c1ccc(F)cc1</td>\n      <td>5000.0</td>\n      <td>intermediate</td>\n      <td>311.422</td>\n      <td>3.3188</td>\n      <td>1.0</td>\n      <td>2.0</td>\n    </tr>\n    <tr>\n      <th>1</th>\n      <td>CHEMBL450926</td>\n      <td>CC12CC[C@@H](C1)C(C)(C)[C@@H]2NS(=O)(=O)c1cccs1</td>\n      <td>2700.0</td>\n      <td>intermediate</td>\n      <td>299.461</td>\n      <td>3.2412</td>\n      <td>1.0</td>\n      <td>3.0</td>\n    </tr>\n    <tr>\n      <th>2</th>\n      <td>CHEMBL310242</td>\n      <td>CC12CC[C@@H](C1)C(C)(C)[C@@H]2NS(=O)(=O)c1ccc(...</td>\n      <td>1800.0</td>\n      <td>intermediate</td>\n      <td>311.422</td>\n      <td>3.3188</td>\n      <td>1.0</td>\n      <td>2.0</td>\n    </tr>\n    <tr>\n      <th>3</th>\n      <td>CHEMBL74874</td>\n      <td>CC12CC[C@@H](C1)C(C)(C)[C@@H]2NS(=O)(=O)c1ccc(...</td>\n      <td>11000.0</td>\n      <td>inactive</td>\n      <td>327.877</td>\n      <td>3.8331</td>\n      <td>1.0</td>\n      <td>2.0</td>\n    </tr>\n    <tr>\n      <th>4</th>\n      <td>CHEMBL75183</td>\n      <td>CC12CC[C@@H](C1)C(C)(C)[C@@H]2NS(=O)(=O)c1ccc(...</td>\n      <td>10000.0</td>\n      <td>inactive</td>\n      <td>372.328</td>\n      <td>3.9422</td>\n      <td>1.0</td>\n      <td>2.0</td>\n    </tr>\n    <tr>\n      <th>5</th>\n      <td>CHEMBL563</td>\n      <td>CC(C(=O)O)c1ccc(-c2ccccc2)c(F)c1</td>\n      <td>305000.0</td>\n      <td>inactive</td>\n      <td>244.265</td>\n      <td>3.6808</td>\n      <td>1.0</td>\n      <td>1.0</td>\n    </tr>\n    <tr>\n      <th>6</th>\n      <td>CHEMBL196279</td>\n      <td>CC(C(=O)O)c1ccc(-c2ccc(Cl)c(Cl)c2)c(F)c1</td>\n      <td>75000.0</td>\n      <td>inactive</td>\n      <td>313.155</td>\n      <td>4.9876</td>\n      <td>1.0</td>\n      <td>1.0</td>\n    </tr>\n    <tr>\n      <th>7</th>\n      <td>CHEMBL195970</td>\n      <td>CC(C(=O)O)c1ccc(-c2cc(Cl)cc(Cl)c2)c(F)c1</td>\n      <td>77000.0</td>\n      <td>inactive</td>\n      <td>313.155</td>\n      <td>4.9876</td>\n      <td>1.0</td>\n      <td>1.0</td>\n    </tr>\n    <tr>\n      <th>8</th>\n      <td>CHEMBL195970</td>\n      <td>CC(C(=O)O)c1ccc(-c2cc(Cl)cc(Cl)c2)c(F)c1</td>\n      <td>94000.0</td>\n      <td>inactive</td>\n      <td>313.155</td>\n      <td>4.9876</td>\n      <td>1.0</td>\n      <td>1.0</td>\n    </tr>\n    <tr>\n      <th>9</th>\n      <td>CHEMBL264006</td>\n      <td>CC(C(=O)O)c1ccc(-c2ccc(C3CCCCC3)cc2)c(F)c1</td>\n      <td>21000.0</td>\n      <td>inactive</td>\n      <td>326.411</td>\n      <td>5.7285</td>\n      <td>1.0</td>\n      <td>1.0</td>\n    </tr>\n  </tbody>\n</table>\n</div>"
     },
     "execution_count": 65,
     "metadata": {},
     "output_type": "execute_result"
    }
   ],
   "source": [
    "df[['mol_weight','log_p','num_h_donors','num_h_acceptors']] = df['canonical_smiles'].apply(lambda x: pd.Series(calculate_lipinski(x)))\n",
    "df.head(10)"
   ],
   "metadata": {
    "collapsed": false,
    "ExecuteTime": {
     "end_time": "2024-05-18T11:07:10.407860Z",
     "start_time": "2024-05-18T11:07:09.805957Z"
    }
   },
   "id": "cc6620c8a79d4e08",
   "execution_count": 65
  },
  {
   "cell_type": "markdown",
   "source": [
    "## Calculate pIC50 values\n",
    "\n",
    "Convert the standard value of IC50 from nM to M by multiplying 10**-9\n",
    "pIC50 = -log(IC50)\n",
    "\n",
    "Add the new column into the dataframe"
   ],
   "metadata": {
    "collapsed": false
   },
   "id": "77247f0e4195573e"
  },
  {
   "cell_type": "code",
   "outputs": [
    {
     "data": {
      "text/plain": "  molecule_chembl_id                                   canonical_smiles  \\\n0       CHEMBL311039          CC12CCC(C1)C(C)(C)C2NS(=O)(=O)c1ccc(F)cc1   \n1       CHEMBL450926    CC12CC[C@@H](C1)C(C)(C)[C@@H]2NS(=O)(=O)c1cccs1   \n2       CHEMBL310242  CC12CC[C@@H](C1)C(C)(C)[C@@H]2NS(=O)(=O)c1ccc(...   \n3        CHEMBL74874  CC12CC[C@@H](C1)C(C)(C)[C@@H]2NS(=O)(=O)c1ccc(...   \n4        CHEMBL75183  CC12CC[C@@H](C1)C(C)(C)[C@@H]2NS(=O)(=O)c1ccc(...   \n\n   standard_value bioactivity_level  mol_weight   log_p  num_h_donors  \\\n0          5000.0      intermediate     311.422  3.3188           1.0   \n1          2700.0      intermediate     299.461  3.2412           1.0   \n2          1800.0      intermediate     311.422  3.3188           1.0   \n3         11000.0          inactive     327.877  3.8331           1.0   \n4         10000.0          inactive     372.328  3.9422           1.0   \n\n   num_h_acceptors     pIC50  \n0              2.0  5.301030  \n1              3.0  5.568636  \n2              2.0  5.744727  \n3              2.0  4.958607  \n4              2.0  5.000000  ",
      "text/html": "<div>\n<style scoped>\n    .dataframe tbody tr th:only-of-type {\n        vertical-align: middle;\n    }\n\n    .dataframe tbody tr th {\n        vertical-align: top;\n    }\n\n    .dataframe thead th {\n        text-align: right;\n    }\n</style>\n<table border=\"1\" class=\"dataframe\">\n  <thead>\n    <tr style=\"text-align: right;\">\n      <th></th>\n      <th>molecule_chembl_id</th>\n      <th>canonical_smiles</th>\n      <th>standard_value</th>\n      <th>bioactivity_level</th>\n      <th>mol_weight</th>\n      <th>log_p</th>\n      <th>num_h_donors</th>\n      <th>num_h_acceptors</th>\n      <th>pIC50</th>\n    </tr>\n  </thead>\n  <tbody>\n    <tr>\n      <th>0</th>\n      <td>CHEMBL311039</td>\n      <td>CC12CCC(C1)C(C)(C)C2NS(=O)(=O)c1ccc(F)cc1</td>\n      <td>5000.0</td>\n      <td>intermediate</td>\n      <td>311.422</td>\n      <td>3.3188</td>\n      <td>1.0</td>\n      <td>2.0</td>\n      <td>5.301030</td>\n    </tr>\n    <tr>\n      <th>1</th>\n      <td>CHEMBL450926</td>\n      <td>CC12CC[C@@H](C1)C(C)(C)[C@@H]2NS(=O)(=O)c1cccs1</td>\n      <td>2700.0</td>\n      <td>intermediate</td>\n      <td>299.461</td>\n      <td>3.2412</td>\n      <td>1.0</td>\n      <td>3.0</td>\n      <td>5.568636</td>\n    </tr>\n    <tr>\n      <th>2</th>\n      <td>CHEMBL310242</td>\n      <td>CC12CC[C@@H](C1)C(C)(C)[C@@H]2NS(=O)(=O)c1ccc(...</td>\n      <td>1800.0</td>\n      <td>intermediate</td>\n      <td>311.422</td>\n      <td>3.3188</td>\n      <td>1.0</td>\n      <td>2.0</td>\n      <td>5.744727</td>\n    </tr>\n    <tr>\n      <th>3</th>\n      <td>CHEMBL74874</td>\n      <td>CC12CC[C@@H](C1)C(C)(C)[C@@H]2NS(=O)(=O)c1ccc(...</td>\n      <td>11000.0</td>\n      <td>inactive</td>\n      <td>327.877</td>\n      <td>3.8331</td>\n      <td>1.0</td>\n      <td>2.0</td>\n      <td>4.958607</td>\n    </tr>\n    <tr>\n      <th>4</th>\n      <td>CHEMBL75183</td>\n      <td>CC12CC[C@@H](C1)C(C)(C)[C@@H]2NS(=O)(=O)c1ccc(...</td>\n      <td>10000.0</td>\n      <td>inactive</td>\n      <td>372.328</td>\n      <td>3.9422</td>\n      <td>1.0</td>\n      <td>2.0</td>\n      <td>5.000000</td>\n    </tr>\n  </tbody>\n</table>\n</div>"
     },
     "execution_count": 66,
     "metadata": {},
     "output_type": "execute_result"
    }
   ],
   "source": [
    "df['pIC50'] = -np.log10(df['standard_value']*(10**-9))\n",
    "df.head()"
   ],
   "metadata": {
    "collapsed": false,
    "ExecuteTime": {
     "end_time": "2024-05-18T11:07:10.415800Z",
     "start_time": "2024-05-18T11:07:10.409087Z"
    }
   },
   "id": "f87c56f3ff16fc56",
   "execution_count": 66
  },
  {
   "cell_type": "markdown",
   "source": [
    "Take a look at the summary statistic for pIC50"
   ],
   "metadata": {
    "collapsed": false
   },
   "id": "f6d557fcb80d72a5"
  },
  {
   "cell_type": "code",
   "outputs": [
    {
     "data": {
      "text/plain": "count    1425.000000\nmean        5.711224\nstd         1.303668\nmin         2.781202\n25%         4.782516\n50%         5.320572\n75%         6.568636\nmax         9.522879\nName: pIC50, dtype: float64"
     },
     "execution_count": 67,
     "metadata": {},
     "output_type": "execute_result"
    }
   ],
   "source": [
    "df.pIC50.describe()"
   ],
   "metadata": {
    "collapsed": false,
    "ExecuteTime": {
     "end_time": "2024-05-18T11:07:10.424047Z",
     "start_time": "2024-05-18T11:07:10.416559Z"
    }
   },
   "id": "d0b25356c9d98e9",
   "execution_count": 67
  }
 ],
 "metadata": {
  "kernelspec": {
   "display_name": "Python 3",
   "language": "python",
   "name": "python3"
  },
  "language_info": {
   "codemirror_mode": {
    "name": "ipython",
    "version": 2
   },
   "file_extension": ".py",
   "mimetype": "text/x-python",
   "name": "python",
   "nbconvert_exporter": "python",
   "pygments_lexer": "ipython2",
   "version": "2.7.6"
  }
 },
 "nbformat": 4,
 "nbformat_minor": 5
}
